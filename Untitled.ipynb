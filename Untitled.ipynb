{
 "cells": [
  {
   "cell_type": "code",
   "execution_count": 111,
   "id": "040d6536",
   "metadata": {},
   "outputs": [],
   "source": [
    "from pycellid.core import CellData\n",
    "import numpy as np\n",
    "from numpy.testing import assert_allclose\n",
    "import re"
   ]
  },
  {
   "cell_type": "code",
   "execution_count": 3,
   "id": "3b85caa1",
   "metadata": {},
   "outputs": [],
   "source": [
    "df = CellData.from_csv('samples_cellid')"
   ]
  },
  {
   "cell_type": "code",
   "execution_count": 152,
   "id": "de87d110",
   "metadata": {},
   "outputs": [
    {
     "data": {
      "text/html": [
       "<div class=\"PyCellID.core.CellData\" id=140538200572688><div class=\"PyCellID.core.CellData\" id=140538199590128><div>\n",
       "<style scoped>\n",
       "    .dataframe tbody tr th:only-of-type {\n",
       "        vertical-align: middle;\n",
       "    }\n",
       "\n",
       "    .dataframe tbody tr th {\n",
       "        vertical-align: top;\n",
       "    }\n",
       "\n",
       "    .dataframe thead th {\n",
       "        text-align: right;\n",
       "    }\n",
       "</style>\n",
       "<table border=\"1\" class=\"dataframe\">\n",
       "  <thead>\n",
       "    <tr style=\"text-align: right;\">\n",
       "      <th></th>\n",
       "      <th>pos</th>\n",
       "      <th>t_frame</th>\n",
       "      <th>cellID</th>\n",
       "      <th>f_local2_bg_rfp</th>\n",
       "      <th>f_local2_bg_tfp</th>\n",
       "    </tr>\n",
       "  </thead>\n",
       "  <tbody>\n",
       "    <tr>\n",
       "      <th>0</th>\n",
       "      <td>1</td>\n",
       "      <td>0</td>\n",
       "      <td>0</td>\n",
       "      <td>241.2194</td>\n",
       "      <td>12523.05</td>\n",
       "    </tr>\n",
       "    <tr>\n",
       "      <th>1</th>\n",
       "      <td>1</td>\n",
       "      <td>1</td>\n",
       "      <td>0</td>\n",
       "      <td>240.1235</td>\n",
       "      <td>12138.30</td>\n",
       "    </tr>\n",
       "    <tr>\n",
       "      <th>2</th>\n",
       "      <td>1</td>\n",
       "      <td>2</td>\n",
       "      <td>0</td>\n",
       "      <td>242.0784</td>\n",
       "      <td>11993.09</td>\n",
       "    </tr>\n",
       "  </tbody>\n",
       "</table>\n",
       "</div>PyCellID.core.CellData - 3 rows x 5 columns</div>PyCellID.core.CellData - 3 rows x 5 columns</div>"
      ],
      "text/plain": [
       "   pos  t_frame  cellID  f_local2_bg_rfp  f_local2_bg_tfp\n",
       "0    1        0       0         241.2194         12523.05\n",
       "1    1        1       0         240.1235         12138.30\n",
       "2    1        2       0         242.0784         11993.09"
      ]
     },
     "execution_count": 152,
     "metadata": {},
     "output_type": "execute_result"
    }
   ],
   "source": [
    "def create_test_object_minimum():\n",
    "    df = CellData.from_csv('samples_cellid')\n",
    "    df = CellData(df._path, df.head(3))\n",
    "    df = df[['pos', 't_frame', 'cellID', 'f_local2_bg_rfp', 'f_local2_bg_tfp']]\n",
    "    df = CellData(df._path, df)\n",
    "    return df\n",
    "rep_r = create_test_object_minimum()\n",
    "rep_r"
   ]
  },
  {
   "cell_type": "code",
   "execution_count": 146,
   "id": "03dc975f",
   "metadata": {},
   "outputs": [],
   "source": [
    "#repr_result ='   pos  t_frame  cellID  f_local2_bg_rfp  f_local2_bg_tfp\\n0    1        0       0         241.2194         12523.05\\n1    1        1       0         240.1235         12138.30\\n2    1        2       0         242.0784         11993.09'\n",
    "spected = [\n",
    "    '   pos  t_frame  cellID  f_local2_bg_rfp  f_local2_bg_tfp',\n",
    "    '0    1        0       0         241.2194         12523.05',\n",
    "    '1    1        1       0         240.1235         12138.30',\n",
    "    '2    1        2       0         242.0784         11993.09'\n",
    "]"
   ]
  },
  {
   "cell_type": "code",
   "execution_count": 147,
   "id": "638d64c3",
   "metadata": {},
   "outputs": [],
   "source": [
    "#repr(df[['pos', 't_frame', 'cellID', 'f_local2_bg_rfp', 'f_local2_bg_tfp']].head(3).values) == repr(df_t.values)"
   ]
  },
  {
   "cell_type": "code",
   "execution_count": 148,
   "id": "78d1f734",
   "metadata": {},
   "outputs": [
    {
     "data": {
      "text/plain": [
       "True"
      ]
     },
     "execution_count": 148,
     "metadata": {},
     "output_type": "execute_result"
    }
   ],
   "source": [
    "repr(rep_r).split('\\n') == spected"
   ]
  },
  {
   "cell_type": "code",
   "execution_count": 149,
   "id": "92d54dce",
   "metadata": {},
   "outputs": [
    {
     "data": {
      "text/plain": [
       "['   pos  t_frame  cellID  f_local2_bg_rfp  f_local2_bg_tfp',\n",
       " '0    1        0       0         241.2194         12523.05',\n",
       " '1    1        1       0         240.1235         12138.30',\n",
       " '2    1        2       0         242.0784         11993.09']"
      ]
     },
     "execution_count": 149,
     "metadata": {},
     "output_type": "execute_result"
    }
   ],
   "source": [
    "parts = repr(rep_r).split('\\n')\n",
    "parts"
   ]
  },
  {
   "cell_type": "code",
   "execution_count": 150,
   "id": "e2d38d80",
   "metadata": {},
   "outputs": [],
   "source": [
    "num = re.compile(r'-?\\d+\\.?\\d*')"
   ]
  },
  {
   "cell_type": "code",
   "execution_count": 151,
   "id": "f003ddbb",
   "metadata": {},
   "outputs": [],
   "source": [
    "for i, val in enumerate(parts[1:]):\n",
    "    n_parts = np.array([n for n in num.findall(val)], dtype=float)\n",
    "    n_spect = np.array([n for n in num.findall(spected[i+1])], dtype=float)\n",
    "    assert_allclose(n_parts, n_spect)"
   ]
  },
  {
   "cell_type": "code",
   "execution_count": 83,
   "id": "c99ce590",
   "metadata": {},
   "outputs": [
    {
     "data": {
      "text/plain": [
       "True"
      ]
     },
     "execution_count": 83,
     "metadata": {},
     "output_type": "execute_result"
    }
   ],
   "source": [
    "np.all((np.array(r_s[1:]) == np.array(repr_result[1:])))"
   ]
  },
  {
   "cell_type": "code",
   "execution_count": 131,
   "id": "a92876a8",
   "metadata": {},
   "outputs": [],
   "source": [
    "\n",
    "#assert_allclose(np.array(r_s[1:]), np.array(repr_result[1:]))"
   ]
  },
  {
   "cell_type": "code",
   "execution_count": 99,
   "id": "32d2af41",
   "metadata": {},
   "outputs": [],
   "source": [
    "numeric = [n for n in r_s[1].split(' ') if n.isnumeric()]"
   ]
  },
  {
   "cell_type": "code",
   "execution_count": 100,
   "id": "eb7ad9f5",
   "metadata": {},
   "outputs": [
    {
     "data": {
      "text/plain": [
       "['0', '1', '0', '0']"
      ]
     },
     "execution_count": 100,
     "metadata": {},
     "output_type": "execute_result"
    }
   ],
   "source": [
    "numeric"
   ]
  },
  {
   "cell_type": "code",
   "execution_count": 98,
   "id": "2575b520",
   "metadata": {},
   "outputs": [
    {
     "data": {
      "text/plain": [
       "True"
      ]
     },
     "execution_count": 98,
     "metadata": {},
     "output_type": "execute_result"
    }
   ],
   "source": [
    "d.isnumeric()"
   ]
  },
  {
   "cell_type": "code",
   "execution_count": 130,
   "id": "f6eac565",
   "metadata": {},
   "outputs": [],
   "source": [
    "#r_s[1].split(' ')"
   ]
  },
  {
   "cell_type": "code",
   "execution_count": 105,
   "id": "be667bdc",
   "metadata": {},
   "outputs": [],
   "source": []
  },
  {
   "cell_type": "code",
   "execution_count": 108,
   "id": "a2969926",
   "metadata": {},
   "outputs": [
    {
     "data": {
      "text/plain": [
       "['   pos  t_frame  cellID  f_local2_bg_rfp  f_local2_bg_tfp',\n",
       " '0    1        0       0         241.2194         12523.05',\n",
       " '1    1        1       0         240.1235         12138.30',\n",
       " '2    1        2       0         242.0784         11993.09']"
      ]
     },
     "execution_count": 108,
     "metadata": {},
     "output_type": "execute_result"
    }
   ],
   "source": [
    "r_s"
   ]
  },
  {
   "cell_type": "code",
   "execution_count": 117,
   "id": "21bf0eb4",
   "metadata": {},
   "outputs": [
    {
     "data": {
      "text/plain": [
       "array([0.000000e+00, 1.000000e+00, 0.000000e+00, 0.000000e+00,\n",
       "       2.412194e+02, 1.252305e+04])"
      ]
     },
     "execution_count": 117,
     "metadata": {},
     "output_type": "execute_result"
    }
   ],
   "source": [
    "np.array([s for s in re.findall(r'-?\\d+\\.?\\d*', r_s[1])], dtype=float)"
   ]
  },
  {
   "cell_type": "code",
   "execution_count": 118,
   "id": "660e8b25",
   "metadata": {},
   "outputs": [],
   "source": [
    "num = re.compile(r'-?\\d+\\.?\\d*')"
   ]
  },
  {
   "cell_type": "code",
   "execution_count": 129,
   "id": "51f40e57",
   "metadata": {},
   "outputs": [
    {
     "name": "stdout",
     "output_type": "stream",
     "text": [
      "[0.000000e+00 1.000000e+00 0.000000e+00 0.000000e+00 2.412194e+02\n",
      " 1.252305e+04]\n",
      "[1.000000e+00 1.000000e+00 1.000000e+00 0.000000e+00 2.401235e+02\n",
      " 1.213830e+04]\n",
      "[2.000000e+00 1.000000e+00 2.000000e+00 0.000000e+00 2.420784e+02\n",
      " 1.199309e+04]\n"
     ]
    }
   ],
   "source": [
    "for n in range(1, len(r_s)):\n",
    "    rep_i = np.array([s for s in num.findall(r_s[n])], dtype=float)\n",
    "    spect = np.array([s for s in num.findall(r_s[n])], dtype=float)"
   ]
  },
  {
   "cell_type": "code",
   "execution_count": 156,
   "id": "8a6a0125",
   "metadata": {},
   "outputs": [
    {
     "data": {
      "text/html": [
       "<div>\n",
       "<style scoped>\n",
       "    .dataframe tbody tr th:only-of-type {\n",
       "        vertical-align: middle;\n",
       "    }\n",
       "\n",
       "    .dataframe tbody tr th {\n",
       "        vertical-align: top;\n",
       "    }\n",
       "\n",
       "    .dataframe thead th {\n",
       "        text-align: right;\n",
       "    }\n",
       "</style>\n",
       "<table border=\"1\" class=\"dataframe\">\n",
       "  <thead>\n",
       "    <tr style=\"text-align: right;\">\n",
       "      <th></th>\n",
       "      <th>pos</th>\n",
       "      <th>t_frame</th>\n",
       "      <th>ucid</th>\n",
       "      <th>cellID</th>\n",
       "      <th>time</th>\n",
       "      <th>xpos</th>\n",
       "      <th>ypos</th>\n",
       "      <th>a_tot</th>\n",
       "      <th>num_pix</th>\n",
       "      <th>fft_stat</th>\n",
       "      <th>...</th>\n",
       "      <th>f_nucl_tag6_tfp</th>\n",
       "      <th>f_nucl_tag6_yfp</th>\n",
       "      <th>f_local_bg_cfp</th>\n",
       "      <th>f_local_bg_rfp</th>\n",
       "      <th>f_local_bg_tfp</th>\n",
       "      <th>f_local_bg_yfp</th>\n",
       "      <th>f_local2_bg_cfp</th>\n",
       "      <th>f_local2_bg_rfp</th>\n",
       "      <th>f_local2_bg_tfp</th>\n",
       "      <th>f_local2_bg_yfp</th>\n",
       "    </tr>\n",
       "  </thead>\n",
       "  <tbody>\n",
       "    <tr>\n",
       "      <th>0</th>\n",
       "      <td>1</td>\n",
       "      <td>0</td>\n",
       "      <td>100000000000</td>\n",
       "      <td>0</td>\n",
       "      <td>0</td>\n",
       "      <td>29</td>\n",
       "      <td>725</td>\n",
       "      <td>527.0</td>\n",
       "      <td>527</td>\n",
       "      <td>0.387982</td>\n",
       "      <td>...</td>\n",
       "      <td>1675334.0</td>\n",
       "      <td>54200.0</td>\n",
       "      <td>378.6183</td>\n",
       "      <td>240.4300</td>\n",
       "      <td>12571.83</td>\n",
       "      <td>312.5942</td>\n",
       "      <td>372.9697</td>\n",
       "      <td>241.2194</td>\n",
       "      <td>12523.05</td>\n",
       "      <td>310.0760</td>\n",
       "    </tr>\n",
       "    <tr>\n",
       "      <th>1</th>\n",
       "      <td>1</td>\n",
       "      <td>1</td>\n",
       "      <td>100000000000</td>\n",
       "      <td>0</td>\n",
       "      <td>0</td>\n",
       "      <td>31</td>\n",
       "      <td>725</td>\n",
       "      <td>614.0</td>\n",
       "      <td>614</td>\n",
       "      <td>0.443545</td>\n",
       "      <td>...</td>\n",
       "      <td>1473843.0</td>\n",
       "      <td>54020.0</td>\n",
       "      <td>383.6143</td>\n",
       "      <td>240.4676</td>\n",
       "      <td>12212.17</td>\n",
       "      <td>319.5286</td>\n",
       "      <td>377.4458</td>\n",
       "      <td>240.1235</td>\n",
       "      <td>12138.30</td>\n",
       "      <td>317.3976</td>\n",
       "    </tr>\n",
       "    <tr>\n",
       "      <th>2</th>\n",
       "      <td>1</td>\n",
       "      <td>2</td>\n",
       "      <td>100000000000</td>\n",
       "      <td>0</td>\n",
       "      <td>0</td>\n",
       "      <td>31</td>\n",
       "      <td>724</td>\n",
       "      <td>639.0</td>\n",
       "      <td>639</td>\n",
       "      <td>0.500724</td>\n",
       "      <td>...</td>\n",
       "      <td>1451150.0</td>\n",
       "      <td>46463.0</td>\n",
       "      <td>379.6064</td>\n",
       "      <td>241.2868</td>\n",
       "      <td>11988.62</td>\n",
       "      <td>322.5431</td>\n",
       "      <td>376.9560</td>\n",
       "      <td>242.0784</td>\n",
       "      <td>11993.09</td>\n",
       "      <td>323.3418</td>\n",
       "    </tr>\n",
       "  </tbody>\n",
       "</table>\n",
       "<p>3 rows × 125 columns</p>\n",
       "</div>"
      ],
      "text/plain": [
       "   pos  t_frame          ucid  cellID  time  xpos  ypos  a_tot  num_pix  \\\n",
       "0    1        0  100000000000       0     0    29   725  527.0      527   \n",
       "1    1        1  100000000000       0     0    31   725  614.0      614   \n",
       "2    1        2  100000000000       0     0    31   724  639.0      639   \n",
       "\n",
       "   fft_stat  ...  f_nucl_tag6_tfp  f_nucl_tag6_yfp  f_local_bg_cfp  \\\n",
       "0  0.387982  ...        1675334.0          54200.0        378.6183   \n",
       "1  0.443545  ...        1473843.0          54020.0        383.6143   \n",
       "2  0.500724  ...        1451150.0          46463.0        379.6064   \n",
       "\n",
       "   f_local_bg_rfp  f_local_bg_tfp  f_local_bg_yfp  f_local2_bg_cfp  \\\n",
       "0        240.4300        12571.83        312.5942         372.9697   \n",
       "1        240.4676        12212.17        319.5286         377.4458   \n",
       "2        241.2868        11988.62        322.5431         376.9560   \n",
       "\n",
       "   f_local2_bg_rfp  f_local2_bg_tfp  f_local2_bg_yfp  \n",
       "0         241.2194         12523.05         310.0760  \n",
       "1         240.1235         12138.30         317.3976  \n",
       "2         242.0784         11993.09         323.3418  \n",
       "\n",
       "[3 rows x 125 columns]"
      ]
     },
     "execution_count": 156,
     "metadata": {},
     "output_type": "execute_result"
    }
   ],
   "source": [
    "df[df.ucid == 100000000000].head(3)\n"
   ]
  },
  {
   "cell_type": "code",
   "execution_count": null,
   "id": "a8c6c1f8",
   "metadata": {},
   "outputs": [],
   "source": []
  }
 ],
 "metadata": {
  "kernelspec": {
   "display_name": "Python 3 (ipykernel)",
   "language": "python",
   "name": "python3"
  },
  "language_info": {
   "codemirror_mode": {
    "name": "ipython",
    "version": 3
   },
   "file_extension": ".py",
   "mimetype": "text/x-python",
   "name": "python",
   "nbconvert_exporter": "python",
   "pygments_lexer": "ipython3",
   "version": "3.9.9"
  }
 },
 "nbformat": 4,
 "nbformat_minor": 5
}
