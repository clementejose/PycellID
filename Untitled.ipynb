{
 "cells": [
  {
   "cell_type": "code",
   "execution_count": 13,
   "id": "7fe1c1f0",
   "metadata": {},
   "outputs": [],
   "source": [
    "from pycellid.core import CellData\n",
    "import numpy as np"
   ]
  },
  {
   "cell_type": "code",
   "execution_count": 3,
   "id": "f9b0890a",
   "metadata": {},
   "outputs": [],
   "source": [
    "df = CellData.from_csv('samples_cellid')"
   ]
  },
  {
   "cell_type": "code",
   "execution_count": 16,
   "id": "cf1b5d21",
   "metadata": {},
   "outputs": [
    {
     "data": {
      "text/html": [
       "<div class=\"PyCellID.core.CellData\" id=140539318429872><div class=\"PyCellID.core.CellData\" id=140538216808256><div>\n",
       "<style scoped>\n",
       "    .dataframe tbody tr th:only-of-type {\n",
       "        vertical-align: middle;\n",
       "    }\n",
       "\n",
       "    .dataframe tbody tr th {\n",
       "        vertical-align: top;\n",
       "    }\n",
       "\n",
       "    .dataframe thead th {\n",
       "        text-align: right;\n",
       "    }\n",
       "</style>\n",
       "<table border=\"1\" class=\"dataframe\">\n",
       "  <thead>\n",
       "    <tr style=\"text-align: right;\">\n",
       "      <th></th>\n",
       "      <th>pos</th>\n",
       "      <th>t_frame</th>\n",
       "      <th>cellID</th>\n",
       "      <th>f_local2_bg_rfp</th>\n",
       "      <th>f_local2_bg_tfp</th>\n",
       "    </tr>\n",
       "  </thead>\n",
       "  <tbody>\n",
       "    <tr>\n",
       "      <th>0</th>\n",
       "      <td>1</td>\n",
       "      <td>0</td>\n",
       "      <td>0</td>\n",
       "      <td>241.2194</td>\n",
       "      <td>12523.05</td>\n",
       "    </tr>\n",
       "    <tr>\n",
       "      <th>1</th>\n",
       "      <td>1</td>\n",
       "      <td>1</td>\n",
       "      <td>0</td>\n",
       "      <td>240.1235</td>\n",
       "      <td>12138.30</td>\n",
       "    </tr>\n",
       "    <tr>\n",
       "      <th>2</th>\n",
       "      <td>1</td>\n",
       "      <td>2</td>\n",
       "      <td>0</td>\n",
       "      <td>242.0784</td>\n",
       "      <td>11993.09</td>\n",
       "    </tr>\n",
       "  </tbody>\n",
       "</table>\n",
       "</div>PyCellID.core.CellData - 3 rows x 5 columns</div>PyCellID.core.CellData - 3 rows x 5 columns</div>"
      ],
      "text/plain": [
       "   pos  t_frame  cellID  f_local2_bg_rfp  f_local2_bg_tfp\n",
       "0    1        0       0         241.2194         12523.05\n",
       "1    1        1       0         240.1235         12138.30\n",
       "2    1        2       0         242.0784         11993.09"
      ]
     },
     "execution_count": 16,
     "metadata": {},
     "output_type": "execute_result"
    }
   ],
   "source": [
    "def create_test_object_minimum():\n",
    "    df = CellData.from_csv('samples_cellid')\n",
    "    df = CellData(df._path, df.head(3))\n",
    "    df = df[['pos', 't_frame', 'cellID', 'f_local2_bg_rfp', 'f_local2_bg_tfp']]\n",
    "    df = CellData(df._path, df)\n",
    "    return df\n",
    "df_t = create_test_object_minimum()\n",
    "df_t"
   ]
  },
  {
   "cell_type": "code",
   "execution_count": 65,
   "id": "6a14b536",
   "metadata": {},
   "outputs": [],
   "source": [
    "#repr_result ='   pos  t_frame  cellID  f_local2_bg_rfp  f_local2_bg_tfp\\n0    1        0       0         241.2194         12523.05\\n1    1        1       0         240.1235         12138.30\\n2    1        2       0         242.0784         11993.09'\n",
    "repr_result = [\n",
    "        '   pos  t_frame  cellID  f_local2_bg_rfp  f_local2_bg_tfp',\n",
    "        '0    1        0       0         241.2194         12523.05',\n",
    "        '1    1        1       0         240.1235         12138.30',\n",
    "        '2    1        2       0         242.0784         11993.09'\n",
    "]        "
   ]
  },
  {
   "cell_type": "code",
   "execution_count": 47,
   "id": "fbea40d8",
   "metadata": {},
   "outputs": [
    {
     "data": {
      "text/plain": [
       "True"
      ]
     },
     "execution_count": 47,
     "metadata": {},
     "output_type": "execute_result"
    }
   ],
   "source": [
    "repr(df[['pos', 't_frame', 'cellID', 'f_local2_bg_rfp', 'f_local2_bg_tfp']].head(3).values) == repr(df_t.values)"
   ]
  },
  {
   "cell_type": "code",
   "execution_count": 48,
   "id": "16b7b08e",
   "metadata": {},
   "outputs": [
    {
     "data": {
      "text/plain": [
       "True"
      ]
     },
     "execution_count": 48,
     "metadata": {},
     "output_type": "execute_result"
    }
   ],
   "source": [
    "repr(df_t) == repr_result"
   ]
  },
  {
   "cell_type": "code",
   "execution_count": 56,
   "id": "20993937",
   "metadata": {},
   "outputs": [
    {
     "data": {
      "text/plain": [
       "'   pos  t_frame  cellID  f_local2_bg_rfp  f_local2_bg_tfp\\n0    1        0       0         241.2194         12523.05\\n1    1        1       0         240.1235         12138.30\\n2    1        2       0         242.0784         11993.09'"
      ]
     },
     "execution_count": 56,
     "metadata": {},
     "output_type": "execute_result"
    }
   ],
   "source": [
    "r = repr(df_t)\n",
    "r"
   ]
  },
  {
   "cell_type": "code",
   "execution_count": 62,
   "id": "4d27869a",
   "metadata": {},
   "outputs": [],
   "source": [
    "r_s = r.split('\\n')"
   ]
  },
  {
   "cell_type": "code",
   "execution_count": 67,
   "id": "d37c9a30",
   "metadata": {},
   "outputs": [
    {
     "data": {
      "text/plain": [
       "True"
      ]
     },
     "execution_count": 67,
     "metadata": {},
     "output_type": "execute_result"
    }
   ],
   "source": [
    "r_s[0] == repr_result[0]"
   ]
  },
  {
   "cell_type": "code",
   "execution_count": 83,
   "id": "49d46300",
   "metadata": {},
   "outputs": [
    {
     "data": {
      "text/plain": [
       "True"
      ]
     },
     "execution_count": 83,
     "metadata": {},
     "output_type": "execute_result"
    }
   ],
   "source": [
    "np.all((np.array(r_s[1:]) == np.array(repr_result[1:])))"
   ]
  },
  {
   "cell_type": "code",
   "execution_count": null,
   "id": "dab1694b",
   "metadata": {},
   "outputs": [],
   "source": []
  }
 ],
 "metadata": {
  "kernelspec": {
   "display_name": "Python 3 (ipykernel)",
   "language": "python",
   "name": "python3"
  },
  "language_info": {
   "codemirror_mode": {
    "name": "ipython",
    "version": 3
   },
   "file_extension": ".py",
   "mimetype": "text/x-python",
   "name": "python",
   "nbconvert_exporter": "python",
   "pygments_lexer": "ipython3",
   "version": "3.9.9"
  }
 },
 "nbformat": 4,
 "nbformat_minor": 5
}
