{
 "cells": [
  {
   "cell_type": "code",
   "execution_count": 111,
   "id": "48341b01",
   "metadata": {},
   "outputs": [],
   "source": [
    "from pycellid.core import CellData\n",
    "import numpy as np\n",
    "from numpy.testing import assert_allclose\n",
    "import re"
   ]
  },
  {
   "cell_type": "code",
   "execution_count": 364,
   "id": "8538a4ac",
   "metadata": {},
   "outputs": [],
   "source": [
    "df = CellData.from_csv('samples_cellid')"
   ]
  },
  {
   "cell_type": "code",
   "execution_count": 237,
   "id": "78c48b48",
   "metadata": {},
   "outputs": [
    {
     "data": {
      "text/html": [
       "<div class=\"PyCellID.core.CellData\" id=140538198318816><div class=\"PyCellID.core.CellData\" id=140538198317088><div>\n",
       "<style scoped>\n",
       "    .dataframe tbody tr th:only-of-type {\n",
       "        vertical-align: middle;\n",
       "    }\n",
       "\n",
       "    .dataframe tbody tr th {\n",
       "        vertical-align: top;\n",
       "    }\n",
       "\n",
       "    .dataframe thead th {\n",
       "        text-align: right;\n",
       "    }\n",
       "</style>\n",
       "<table border=\"1\" class=\"dataframe\">\n",
       "  <thead>\n",
       "    <tr style=\"text-align: right;\">\n",
       "      <th></th>\n",
       "      <th>pos</th>\n",
       "      <th>t_frame</th>\n",
       "      <th>cellID</th>\n",
       "      <th>f_local2_bg_rfp</th>\n",
       "      <th>f_local2_bg_tfp</th>\n",
       "    </tr>\n",
       "  </thead>\n",
       "  <tbody>\n",
       "    <tr>\n",
       "      <th>0</th>\n",
       "      <td>1</td>\n",
       "      <td>0</td>\n",
       "      <td>0</td>\n",
       "      <td>241.2194</td>\n",
       "      <td>12523.05</td>\n",
       "    </tr>\n",
       "    <tr>\n",
       "      <th>1</th>\n",
       "      <td>1</td>\n",
       "      <td>1</td>\n",
       "      <td>0</td>\n",
       "      <td>240.1235</td>\n",
       "      <td>12138.30</td>\n",
       "    </tr>\n",
       "    <tr>\n",
       "      <th>2</th>\n",
       "      <td>1</td>\n",
       "      <td>2</td>\n",
       "      <td>0</td>\n",
       "      <td>242.0784</td>\n",
       "      <td>11993.09</td>\n",
       "    </tr>\n",
       "  </tbody>\n",
       "</table>\n",
       "</div>PyCellID.core.CellData - 3 rows x 5 columns</div>PyCellID.core.CellData - 3 rows x 5 columns</div>"
      ],
      "text/plain": [
       "   pos  t_frame  cellID  f_local2_bg_rfp  f_local2_bg_tfp\n",
       "0    1        0       0         241.2194         12523.05\n",
       "1    1        1       0         240.1235         12138.30\n",
       "2    1        2       0         242.0784         11993.09"
      ]
     },
     "execution_count": 237,
     "metadata": {},
     "output_type": "execute_result"
    }
   ],
   "source": [
    "def create_test_object_minimum():\n",
    "    df = CellData.from_csv('samples_cellid')\n",
    "    df = CellData(df._path, df.head(3))\n",
    "    df = df[['pos', 't_frame', 'cellID', 'f_local2_bg_rfp', 'f_local2_bg_tfp']]\n",
    "    df = CellData(df._path, df)\n",
    "    return df\n",
    "rep_r = create_test_object_minimum()\n",
    "rep_r"
   ]
  },
  {
   "cell_type": "code",
   "execution_count": 146,
   "id": "55370c54",
   "metadata": {},
   "outputs": [],
   "source": [
    "#repr_result ='   pos  t_frame  cellID  f_local2_bg_rfp  f_local2_bg_tfp\\n0    1        0       0         241.2194         12523.05\\n1    1        1       0         240.1235         12138.30\\n2    1        2       0         242.0784         11993.09'\n",
    "spected = [\n",
    "    '   pos  t_frame  cellID  f_local2_bg_rfp  f_local2_bg_tfp',\n",
    "    '0    1        0       0         241.2194         12523.05',\n",
    "    '1    1        1       0         240.1235         12138.30',\n",
    "    '2    1        2       0         242.0784         11993.09'\n",
    "]"
   ]
  },
  {
   "cell_type": "code",
   "execution_count": 147,
   "id": "e805b156",
   "metadata": {},
   "outputs": [],
   "source": [
    "#repr(df[['pos', 't_frame', 'cellID', 'f_local2_bg_rfp', 'f_local2_bg_tfp']].head(3).values) == repr(df_t.values)"
   ]
  },
  {
   "cell_type": "code",
   "execution_count": 148,
   "id": "4af8b31f",
   "metadata": {},
   "outputs": [
    {
     "data": {
      "text/plain": [
       "True"
      ]
     },
     "execution_count": 148,
     "metadata": {},
     "output_type": "execute_result"
    }
   ],
   "source": [
    "repr(rep_r).split('\\n') == spected"
   ]
  },
  {
   "cell_type": "code",
   "execution_count": 149,
   "id": "dec4e759",
   "metadata": {},
   "outputs": [
    {
     "data": {
      "text/plain": [
       "['   pos  t_frame  cellID  f_local2_bg_rfp  f_local2_bg_tfp',\n",
       " '0    1        0       0         241.2194         12523.05',\n",
       " '1    1        1       0         240.1235         12138.30',\n",
       " '2    1        2       0         242.0784         11993.09']"
      ]
     },
     "execution_count": 149,
     "metadata": {},
     "output_type": "execute_result"
    }
   ],
   "source": [
    "parts = repr(rep_r).split('\\n')\n",
    "parts"
   ]
  },
  {
   "cell_type": "code",
   "execution_count": 150,
   "id": "446859cb",
   "metadata": {},
   "outputs": [],
   "source": [
    "num = re.compile(r'-?\\d+\\.?\\d*')"
   ]
  },
  {
   "cell_type": "code",
   "execution_count": 151,
   "id": "cc3d502b",
   "metadata": {},
   "outputs": [],
   "source": [
    "for i, val in enumerate(parts[1:]):\n",
    "    n_parts = np.array([n for n in num.findall(val)], dtype=float)\n",
    "    n_spect = np.array([n for n in num.findall(spected[i+1])], dtype=float)\n",
    "    assert_allclose(n_parts, n_spect)"
   ]
  },
  {
   "cell_type": "code",
   "execution_count": 83,
   "id": "643126f4",
   "metadata": {},
   "outputs": [
    {
     "data": {
      "text/plain": [
       "True"
      ]
     },
     "execution_count": 83,
     "metadata": {},
     "output_type": "execute_result"
    }
   ],
   "source": [
    "np.all((np.array(r_s[1:]) == np.array(repr_result[1:])))"
   ]
  },
  {
   "cell_type": "code",
   "execution_count": 131,
   "id": "7b619e40",
   "metadata": {},
   "outputs": [],
   "source": [
    "\n",
    "#assert_allclose(np.array(r_s[1:]), np.array(repr_result[1:]))"
   ]
  },
  {
   "cell_type": "code",
   "execution_count": 99,
   "id": "fa0e85a3",
   "metadata": {},
   "outputs": [],
   "source": [
    "numeric = [n for n in r_s[1].split(' ') if n.isnumeric()]"
   ]
  },
  {
   "cell_type": "code",
   "execution_count": 100,
   "id": "c68dc338",
   "metadata": {},
   "outputs": [
    {
     "data": {
      "text/plain": [
       "['0', '1', '0', '0']"
      ]
     },
     "execution_count": 100,
     "metadata": {},
     "output_type": "execute_result"
    }
   ],
   "source": [
    "numeric"
   ]
  },
  {
   "cell_type": "code",
   "execution_count": 98,
   "id": "d0d737e2",
   "metadata": {},
   "outputs": [
    {
     "data": {
      "text/plain": [
       "True"
      ]
     },
     "execution_count": 98,
     "metadata": {},
     "output_type": "execute_result"
    }
   ],
   "source": [
    "d.isnumeric()"
   ]
  },
  {
   "cell_type": "code",
   "execution_count": 130,
   "id": "d3dca3d6",
   "metadata": {},
   "outputs": [],
   "source": [
    "#r_s[1].split(' ')"
   ]
  },
  {
   "cell_type": "code",
   "execution_count": 105,
   "id": "4b7434c8",
   "metadata": {},
   "outputs": [],
   "source": []
  },
  {
   "cell_type": "code",
   "execution_count": 108,
   "id": "efeaa524",
   "metadata": {},
   "outputs": [
    {
     "data": {
      "text/plain": [
       "['   pos  t_frame  cellID  f_local2_bg_rfp  f_local2_bg_tfp',\n",
       " '0    1        0       0         241.2194         12523.05',\n",
       " '1    1        1       0         240.1235         12138.30',\n",
       " '2    1        2       0         242.0784         11993.09']"
      ]
     },
     "execution_count": 108,
     "metadata": {},
     "output_type": "execute_result"
    }
   ],
   "source": [
    "r_s"
   ]
  },
  {
   "cell_type": "code",
   "execution_count": 117,
   "id": "ab1937c7",
   "metadata": {},
   "outputs": [
    {
     "data": {
      "text/plain": [
       "array([0.000000e+00, 1.000000e+00, 0.000000e+00, 0.000000e+00,\n",
       "       2.412194e+02, 1.252305e+04])"
      ]
     },
     "execution_count": 117,
     "metadata": {},
     "output_type": "execute_result"
    }
   ],
   "source": [
    "np.array([s for s in re.findall(r'-?\\d+\\.?\\d*', r_s[1])], dtype=float)"
   ]
  },
  {
   "cell_type": "code",
   "execution_count": 118,
   "id": "04559b79",
   "metadata": {},
   "outputs": [],
   "source": [
    "num = re.compile(r'-?\\d+\\.?\\d*')"
   ]
  },
  {
   "cell_type": "code",
   "execution_count": 173,
   "id": "ec72933b",
   "metadata": {},
   "outputs": [],
   "source": [
    "for n in range(1, len(r_s)):\n",
    "    rep_i = np.array([s for s in num.findall(r_s[n])], dtype=float)\n",
    "    spect = np.array([s for s in num.findall(r_s[n])], dtype=float)\n",
    "    rep_i , spect"
   ]
  },
  {
   "cell_type": "code",
   "execution_count": 170,
   "id": "35cf1766",
   "metadata": {},
   "outputs": [
    {
     "data": {
      "text/html": [
       "<div>\n",
       "<style scoped>\n",
       "    .dataframe tbody tr th:only-of-type {\n",
       "        vertical-align: middle;\n",
       "    }\n",
       "\n",
       "    .dataframe tbody tr th {\n",
       "        vertical-align: top;\n",
       "    }\n",
       "\n",
       "    .dataframe thead th {\n",
       "        text-align: right;\n",
       "    }\n",
       "</style>\n",
       "<table border=\"1\" class=\"dataframe\">\n",
       "  <thead>\n",
       "    <tr style=\"text-align: right;\">\n",
       "      <th></th>\n",
       "      <th>pos</th>\n",
       "      <th>t_frame</th>\n",
       "      <th>cellID</th>\n",
       "      <th>f_local2_bg_rfp</th>\n",
       "      <th>f_local2_bg_tfp</th>\n",
       "    </tr>\n",
       "  </thead>\n",
       "  <tbody>\n",
       "    <tr>\n",
       "      <th>0</th>\n",
       "      <td>1</td>\n",
       "      <td>0</td>\n",
       "      <td>0</td>\n",
       "      <td>241.2194</td>\n",
       "      <td>12523.05</td>\n",
       "    </tr>\n",
       "    <tr>\n",
       "      <th>1</th>\n",
       "      <td>1</td>\n",
       "      <td>1</td>\n",
       "      <td>0</td>\n",
       "      <td>240.1235</td>\n",
       "      <td>12138.30</td>\n",
       "    </tr>\n",
       "    <tr>\n",
       "      <th>2</th>\n",
       "      <td>1</td>\n",
       "      <td>2</td>\n",
       "      <td>0</td>\n",
       "      <td>242.0784</td>\n",
       "      <td>11993.09</td>\n",
       "    </tr>\n",
       "  </tbody>\n",
       "</table>\n",
       "</div>"
      ],
      "text/plain": [
       "   pos  t_frame  cellID  f_local2_bg_rfp  f_local2_bg_tfp\n",
       "0    1        0       0         241.2194         12523.05\n",
       "1    1        1       0         240.1235         12138.30\n",
       "2    1        2       0         242.0784         11993.09"
      ]
     },
     "execution_count": 170,
     "metadata": {},
     "output_type": "execute_result"
    }
   ],
   "source": [
    "col = ['pos', 't_frame', 'cellID', 'f_local2_bg_rfp', 'f_local2_bg_tfp']\n",
    "df[df.ucid == 100000000000][col].head(3)\n"
   ]
  },
  {
   "cell_type": "code",
   "execution_count": 177,
   "id": "bc4a1169",
   "metadata": {},
   "outputs": [],
   "source": [
    "s=rep_r._repr_html_().split(\"\\n\", 1)[1]"
   ]
  },
  {
   "cell_type": "code",
   "execution_count": 183,
   "id": "98892e8c",
   "metadata": {},
   "outputs": [
    {
     "data": {
      "text/html": [
       "<div class=\"PyCellID.core.CellData\" id=140538258995760><div>\n",
       "<style scoped>\n",
       "    .dataframe tbody tr th:only-of-type {\n",
       "        vertical-align: middle;\n",
       "    }\n",
       "\n",
       "    .dataframe tbody tr th {\n",
       "        vertical-align: top;\n",
       "    }\n",
       "\n",
       "    .dataframe thead th {\n",
       "        text-align: right;\n",
       "    }\n",
       "</style>\n",
       "<table border=\"1\" class=\"dataframe\">\n",
       "  <thead>\n",
       "    <tr style=\"text-align: right;\">\n",
       "      <th></th>\n",
       "      <th>pos</th>\n",
       "      <th>t_frame</th>\n",
       "      <th>ucid</th>\n",
       "      <th>cellID</th>\n",
       "      <th>time</th>\n",
       "      <th>xpos</th>\n",
       "      <th>ypos</th>\n",
       "      <th>a_tot</th>\n",
       "      <th>num_pix</th>\n",
       "      <th>fft_stat</th>\n",
       "      <th>...</th>\n",
       "      <th>f_nucl_tag6_tfp</th>\n",
       "      <th>f_nucl_tag6_yfp</th>\n",
       "      <th>f_local_bg_cfp</th>\n",
       "      <th>f_local_bg_rfp</th>\n",
       "      <th>f_local_bg_tfp</th>\n",
       "      <th>f_local_bg_yfp</th>\n",
       "      <th>f_local2_bg_cfp</th>\n",
       "      <th>f_local2_bg_rfp</th>\n",
       "      <th>f_local2_bg_tfp</th>\n",
       "      <th>f_local2_bg_yfp</th>\n",
       "    </tr>\n",
       "  </thead>\n",
       "  <tbody>\n",
       "    <tr>\n",
       "      <th>0</th>\n",
       "      <td>1</td>\n",
       "      <td>0</td>\n",
       "      <td>100000000000</td>\n",
       "      <td>0</td>\n",
       "      <td>0</td>\n",
       "      <td>29</td>\n",
       "      <td>725</td>\n",
       "      <td>527.0</td>\n",
       "      <td>527</td>\n",
       "      <td>0.387982</td>\n",
       "      <td>...</td>\n",
       "      <td>1675334.0</td>\n",
       "      <td>54200.0</td>\n",
       "      <td>378.6183</td>\n",
       "      <td>240.4300</td>\n",
       "      <td>12571.83</td>\n",
       "      <td>312.5942</td>\n",
       "      <td>372.9697</td>\n",
       "      <td>241.2194</td>\n",
       "      <td>12523.050</td>\n",
       "      <td>310.0760</td>\n",
       "    </tr>\n",
       "    <tr>\n",
       "      <th>1</th>\n",
       "      <td>1</td>\n",
       "      <td>1</td>\n",
       "      <td>100000000000</td>\n",
       "      <td>0</td>\n",
       "      <td>0</td>\n",
       "      <td>31</td>\n",
       "      <td>725</td>\n",
       "      <td>614.0</td>\n",
       "      <td>614</td>\n",
       "      <td>0.443545</td>\n",
       "      <td>...</td>\n",
       "      <td>1473843.0</td>\n",
       "      <td>54020.0</td>\n",
       "      <td>383.6143</td>\n",
       "      <td>240.4676</td>\n",
       "      <td>12212.17</td>\n",
       "      <td>319.5286</td>\n",
       "      <td>377.4458</td>\n",
       "      <td>240.1235</td>\n",
       "      <td>12138.300</td>\n",
       "      <td>317.3976</td>\n",
       "    </tr>\n",
       "    <tr>\n",
       "      <th>2</th>\n",
       "      <td>1</td>\n",
       "      <td>2</td>\n",
       "      <td>100000000000</td>\n",
       "      <td>0</td>\n",
       "      <td>0</td>\n",
       "      <td>31</td>\n",
       "      <td>724</td>\n",
       "      <td>639.0</td>\n",
       "      <td>639</td>\n",
       "      <td>0.500724</td>\n",
       "      <td>...</td>\n",
       "      <td>1451150.0</td>\n",
       "      <td>46463.0</td>\n",
       "      <td>379.6064</td>\n",
       "      <td>241.2868</td>\n",
       "      <td>11988.62</td>\n",
       "      <td>322.5431</td>\n",
       "      <td>376.9560</td>\n",
       "      <td>242.0784</td>\n",
       "      <td>11993.090</td>\n",
       "      <td>323.3418</td>\n",
       "    </tr>\n",
       "    <tr>\n",
       "      <th>3</th>\n",
       "      <td>1</td>\n",
       "      <td>3</td>\n",
       "      <td>100000000000</td>\n",
       "      <td>0</td>\n",
       "      <td>0</td>\n",
       "      <td>31</td>\n",
       "      <td>725</td>\n",
       "      <td>688.0</td>\n",
       "      <td>688</td>\n",
       "      <td>0.591332</td>\n",
       "      <td>...</td>\n",
       "      <td>1566434.0</td>\n",
       "      <td>47871.0</td>\n",
       "      <td>390.2697</td>\n",
       "      <td>436.6727</td>\n",
       "      <td>11646.41</td>\n",
       "      <td>330.3378</td>\n",
       "      <td>391.3493</td>\n",
       "      <td>437.9252</td>\n",
       "      <td>11549.440</td>\n",
       "      <td>331.3429</td>\n",
       "    </tr>\n",
       "    <tr>\n",
       "      <th>4</th>\n",
       "      <td>1</td>\n",
       "      <td>4</td>\n",
       "      <td>100000000000</td>\n",
       "      <td>0</td>\n",
       "      <td>0</td>\n",
       "      <td>24</td>\n",
       "      <td>721</td>\n",
       "      <td>457.0</td>\n",
       "      <td>457</td>\n",
       "      <td>0.085026</td>\n",
       "      <td>...</td>\n",
       "      <td>1204067.0</td>\n",
       "      <td>52761.0</td>\n",
       "      <td>372.6058</td>\n",
       "      <td>241.3909</td>\n",
       "      <td>11593.46</td>\n",
       "      <td>330.6237</td>\n",
       "      <td>367.9105</td>\n",
       "      <td>242.5352</td>\n",
       "      <td>11503.960</td>\n",
       "      <td>329.0977</td>\n",
       "    </tr>\n",
       "    <tr>\n",
       "      <th>...</th>\n",
       "      <td>...</td>\n",
       "      <td>...</td>\n",
       "      <td>...</td>\n",
       "      <td>...</td>\n",
       "      <td>...</td>\n",
       "      <td>...</td>\n",
       "      <td>...</td>\n",
       "      <td>...</td>\n",
       "      <td>...</td>\n",
       "      <td>...</td>\n",
       "      <td>...</td>\n",
       "      <td>...</td>\n",
       "      <td>...</td>\n",
       "      <td>...</td>\n",
       "      <td>...</td>\n",
       "      <td>...</td>\n",
       "      <td>...</td>\n",
       "      <td>...</td>\n",
       "      <td>...</td>\n",
       "      <td>...</td>\n",
       "      <td>...</td>\n",
       "    </tr>\n",
       "    <tr>\n",
       "      <th>18184</th>\n",
       "      <td>3</td>\n",
       "      <td>12</td>\n",
       "      <td>300000000720</td>\n",
       "      <td>720</td>\n",
       "      <td>0</td>\n",
       "      <td>802</td>\n",
       "      <td>736</td>\n",
       "      <td>147.0</td>\n",
       "      <td>147</td>\n",
       "      <td>0.556508</td>\n",
       "      <td>...</td>\n",
       "      <td>1237009.0</td>\n",
       "      <td>39586.0</td>\n",
       "      <td>520.8205</td>\n",
       "      <td>254.4151</td>\n",
       "      <td>10049.78</td>\n",
       "      <td>612.9800</td>\n",
       "      <td>522.1818</td>\n",
       "      <td>254.9767</td>\n",
       "      <td>10533.790</td>\n",
       "      <td>621.8302</td>\n",
       "    </tr>\n",
       "    <tr>\n",
       "      <th>18185</th>\n",
       "      <td>3</td>\n",
       "      <td>12</td>\n",
       "      <td>300000000721</td>\n",
       "      <td>721</td>\n",
       "      <td>0</td>\n",
       "      <td>840</td>\n",
       "      <td>707</td>\n",
       "      <td>391.0</td>\n",
       "      <td>391</td>\n",
       "      <td>0.040324</td>\n",
       "      <td>...</td>\n",
       "      <td>1053566.0</td>\n",
       "      <td>44035.0</td>\n",
       "      <td>477.8000</td>\n",
       "      <td>248.6977</td>\n",
       "      <td>11320.68</td>\n",
       "      <td>576.1446</td>\n",
       "      <td>463.5887</td>\n",
       "      <td>250.3025</td>\n",
       "      <td>11368.400</td>\n",
       "      <td>571.9272</td>\n",
       "    </tr>\n",
       "    <tr>\n",
       "      <th>18186</th>\n",
       "      <td>3</td>\n",
       "      <td>12</td>\n",
       "      <td>300000000722</td>\n",
       "      <td>722</td>\n",
       "      <td>0</td>\n",
       "      <td>915</td>\n",
       "      <td>827</td>\n",
       "      <td>587.0</td>\n",
       "      <td>587</td>\n",
       "      <td>0.672861</td>\n",
       "      <td>...</td>\n",
       "      <td>1534440.0</td>\n",
       "      <td>58636.0</td>\n",
       "      <td>508.6136</td>\n",
       "      <td>250.6716</td>\n",
       "      <td>9132.60</td>\n",
       "      <td>578.7262</td>\n",
       "      <td>509.0000</td>\n",
       "      <td>250.9851</td>\n",
       "      <td>9129.724</td>\n",
       "      <td>572.0000</td>\n",
       "    </tr>\n",
       "    <tr>\n",
       "      <th>18187</th>\n",
       "      <td>3</td>\n",
       "      <td>12</td>\n",
       "      <td>300000000723</td>\n",
       "      <td>723</td>\n",
       "      <td>0</td>\n",
       "      <td>986</td>\n",
       "      <td>336</td>\n",
       "      <td>119.0</td>\n",
       "      <td>119</td>\n",
       "      <td>0.494793</td>\n",
       "      <td>...</td>\n",
       "      <td>469596.0</td>\n",
       "      <td>36213.0</td>\n",
       "      <td>530.8571</td>\n",
       "      <td>250.7143</td>\n",
       "      <td>11290.47</td>\n",
       "      <td>423.6049</td>\n",
       "      <td>536.5789</td>\n",
       "      <td>251.0638</td>\n",
       "      <td>11238.870</td>\n",
       "      <td>423.4595</td>\n",
       "    </tr>\n",
       "    <tr>\n",
       "      <th>18188</th>\n",
       "      <td>3</td>\n",
       "      <td>12</td>\n",
       "      <td>300000000724</td>\n",
       "      <td>724</td>\n",
       "      <td>0</td>\n",
       "      <td>1014</td>\n",
       "      <td>84</td>\n",
       "      <td>120.0</td>\n",
       "      <td>120</td>\n",
       "      <td>0.827304</td>\n",
       "      <td>...</td>\n",
       "      <td>526434.0</td>\n",
       "      <td>127674.0</td>\n",
       "      <td>453.5542</td>\n",
       "      <td>249.6765</td>\n",
       "      <td>10899.60</td>\n",
       "      <td>716.8197</td>\n",
       "      <td>460.7500</td>\n",
       "      <td>248.6575</td>\n",
       "      <td>11796.740</td>\n",
       "      <td>903.9592</td>\n",
       "    </tr>\n",
       "  </tbody>\n",
       "</table>\n",
       "</div>PyCellID.core.CellData - 18189 rows x 125 columns</div>"
      ],
      "text/plain": [
       "       pos  t_frame          ucid  cellID  time  xpos  ypos  a_tot  num_pix  \\\n",
       "0        1        0  100000000000       0     0    29   725  527.0      527   \n",
       "1        1        1  100000000000       0     0    31   725  614.0      614   \n",
       "2        1        2  100000000000       0     0    31   724  639.0      639   \n",
       "3        1        3  100000000000       0     0    31   725  688.0      688   \n",
       "4        1        4  100000000000       0     0    24   721  457.0      457   \n",
       "...    ...      ...           ...     ...   ...   ...   ...    ...      ...   \n",
       "18184    3       12  300000000720     720     0   802   736  147.0      147   \n",
       "18185    3       12  300000000721     721     0   840   707  391.0      391   \n",
       "18186    3       12  300000000722     722     0   915   827  587.0      587   \n",
       "18187    3       12  300000000723     723     0   986   336  119.0      119   \n",
       "18188    3       12  300000000724     724     0  1014    84  120.0      120   \n",
       "\n",
       "       fft_stat  ...  f_nucl_tag6_tfp  f_nucl_tag6_yfp  f_local_bg_cfp  \\\n",
       "0      0.387982  ...        1675334.0          54200.0        378.6183   \n",
       "1      0.443545  ...        1473843.0          54020.0        383.6143   \n",
       "2      0.500724  ...        1451150.0          46463.0        379.6064   \n",
       "3      0.591332  ...        1566434.0          47871.0        390.2697   \n",
       "4      0.085026  ...        1204067.0          52761.0        372.6058   \n",
       "...         ...  ...              ...              ...             ...   \n",
       "18184  0.556508  ...        1237009.0          39586.0        520.8205   \n",
       "18185  0.040324  ...        1053566.0          44035.0        477.8000   \n",
       "18186  0.672861  ...        1534440.0          58636.0        508.6136   \n",
       "18187  0.494793  ...         469596.0          36213.0        530.8571   \n",
       "18188  0.827304  ...         526434.0         127674.0        453.5542   \n",
       "\n",
       "       f_local_bg_rfp  f_local_bg_tfp  f_local_bg_yfp  f_local2_bg_cfp  \\\n",
       "0            240.4300        12571.83        312.5942         372.9697   \n",
       "1            240.4676        12212.17        319.5286         377.4458   \n",
       "2            241.2868        11988.62        322.5431         376.9560   \n",
       "3            436.6727        11646.41        330.3378         391.3493   \n",
       "4            241.3909        11593.46        330.6237         367.9105   \n",
       "...               ...             ...             ...              ...   \n",
       "18184        254.4151        10049.78        612.9800         522.1818   \n",
       "18185        248.6977        11320.68        576.1446         463.5887   \n",
       "18186        250.6716         9132.60        578.7262         509.0000   \n",
       "18187        250.7143        11290.47        423.6049         536.5789   \n",
       "18188        249.6765        10899.60        716.8197         460.7500   \n",
       "\n",
       "       f_local2_bg_rfp  f_local2_bg_tfp  f_local2_bg_yfp  \n",
       "0             241.2194        12523.050         310.0760  \n",
       "1             240.1235        12138.300         317.3976  \n",
       "2             242.0784        11993.090         323.3418  \n",
       "3             437.9252        11549.440         331.3429  \n",
       "4             242.5352        11503.960         329.0977  \n",
       "...                ...              ...              ...  \n",
       "18184         254.9767        10533.790         621.8302  \n",
       "18185         250.3025        11368.400         571.9272  \n",
       "18186         250.9851         9129.724         572.0000  \n",
       "18187         251.0638        11238.870         423.4595  \n",
       "18188         248.6575        11796.740         903.9592  \n",
       "\n",
       "[18189 rows x 125 columns]"
      ]
     },
     "execution_count": 183,
     "metadata": {},
     "output_type": "execute_result"
    }
   ],
   "source": [
    "df"
   ]
  },
  {
   "cell_type": "code",
   "execution_count": 187,
   "id": "55d43318",
   "metadata": {},
   "outputs": [
    {
     "data": {
      "text/html": [
       "<div class=\"PyCellID.core.CellData\" id=140538197873712><div>\n",
       "<style scoped>\n",
       "    .dataframe tbody tr th:only-of-type {\n",
       "        vertical-align: middle;\n",
       "    }\n",
       "\n",
       "    .dataframe tbody tr th {\n",
       "        vertical-align: top;\n",
       "    }\n",
       "\n",
       "    .dataframe thead th {\n",
       "        text-align: right;\n",
       "    }\n",
       "</style>\n",
       "<table border=\"1\" class=\"dataframe\">\n",
       "  <thead>\n",
       "    <tr style=\"text-align: right;\">\n",
       "      <th></th>\n",
       "      <th>pos</th>\n",
       "      <th>t_frame</th>\n",
       "      <th>cellID</th>\n",
       "      <th>f_local2_bg_rfp</th>\n",
       "      <th>f_local2_bg_tfp</th>\n",
       "    </tr>\n",
       "  </thead>\n",
       "  <tbody>\n",
       "    <tr>\n",
       "      <th>0</th>\n",
       "      <td>1</td>\n",
       "      <td>0</td>\n",
       "      <td>0</td>\n",
       "      <td>241.2194</td>\n",
       "      <td>12523.05</td>\n",
       "    </tr>\n",
       "    <tr>\n",
       "      <th>1</th>\n",
       "      <td>1</td>\n",
       "      <td>1</td>\n",
       "      <td>0</td>\n",
       "      <td>240.1235</td>\n",
       "      <td>12138.30</td>\n",
       "    </tr>\n",
       "    <tr>\n",
       "      <th>2</th>\n",
       "      <td>1</td>\n",
       "      <td>2</td>\n",
       "      <td>0</td>\n",
       "      <td>242.0784</td>\n",
       "      <td>11993.09</td>\n",
       "    </tr>\n",
       "    <tr>\n",
       "      <th>3</th>\n",
       "      <td>1</td>\n",
       "      <td>3</td>\n",
       "      <td>0</td>\n",
       "      <td>437.9252</td>\n",
       "      <td>11549.44</td>\n",
       "    </tr>\n",
       "    <tr>\n",
       "      <th>4</th>\n",
       "      <td>1</td>\n",
       "      <td>4</td>\n",
       "      <td>0</td>\n",
       "      <td>242.5352</td>\n",
       "      <td>11503.96</td>\n",
       "    </tr>\n",
       "    <tr>\n",
       "      <th>5</th>\n",
       "      <td>1</td>\n",
       "      <td>5</td>\n",
       "      <td>0</td>\n",
       "      <td>240.2014</td>\n",
       "      <td>11314.75</td>\n",
       "    </tr>\n",
       "    <tr>\n",
       "      <th>6</th>\n",
       "      <td>1</td>\n",
       "      <td>6</td>\n",
       "      <td>0</td>\n",
       "      <td>241.2385</td>\n",
       "      <td>10898.41</td>\n",
       "    </tr>\n",
       "    <tr>\n",
       "      <th>7</th>\n",
       "      <td>1</td>\n",
       "      <td>7</td>\n",
       "      <td>0</td>\n",
       "      <td>241.3916</td>\n",
       "      <td>10816.48</td>\n",
       "    </tr>\n",
       "    <tr>\n",
       "      <th>8</th>\n",
       "      <td>1</td>\n",
       "      <td>8</td>\n",
       "      <td>0</td>\n",
       "      <td>242.2746</td>\n",
       "      <td>10425.87</td>\n",
       "    </tr>\n",
       "    <tr>\n",
       "      <th>9</th>\n",
       "      <td>1</td>\n",
       "      <td>9</td>\n",
       "      <td>0</td>\n",
       "      <td>240.6556</td>\n",
       "      <td>10436.39</td>\n",
       "    </tr>\n",
       "    <tr>\n",
       "      <th>10</th>\n",
       "      <td>1</td>\n",
       "      <td>10</td>\n",
       "      <td>0</td>\n",
       "      <td>242.3295</td>\n",
       "      <td>10428.37</td>\n",
       "    </tr>\n",
       "    <tr>\n",
       "      <th>11</th>\n",
       "      <td>1</td>\n",
       "      <td>11</td>\n",
       "      <td>0</td>\n",
       "      <td>243.3364</td>\n",
       "      <td>10624.40</td>\n",
       "    </tr>\n",
       "    <tr>\n",
       "      <th>12</th>\n",
       "      <td>1</td>\n",
       "      <td>12</td>\n",
       "      <td>0</td>\n",
       "      <td>241.5934</td>\n",
       "      <td>10787.02</td>\n",
       "    </tr>\n",
       "  </tbody>\n",
       "</table>\n",
       "</div>PyCellID.core.CellData - 13 rows x 5 columns</div>"
      ],
      "text/plain": [
       "    pos  t_frame  cellID  f_local2_bg_rfp  f_local2_bg_tfp\n",
       "0     1        0       0         241.2194         12523.05\n",
       "1     1        1       0         240.1235         12138.30\n",
       "2     1        2       0         242.0784         11993.09\n",
       "3     1        3       0         437.9252         11549.44\n",
       "4     1        4       0         242.5352         11503.96\n",
       "5     1        5       0         240.2014         11314.75\n",
       "6     1        6       0         241.2385         10898.41\n",
       "7     1        7       0         241.3916         10816.48\n",
       "8     1        8       0         242.2746         10425.87\n",
       "9     1        9       0         240.6556         10436.39\n",
       "10    1       10       0         242.3295         10428.37\n",
       "11    1       11       0         243.3364         10624.40\n",
       "12    1       12       0         241.5934         10787.02"
      ]
     },
     "execution_count": 187,
     "metadata": {},
     "output_type": "execute_result"
    }
   ],
   "source": [
    "df[df.ucid==100000000000][['pos', 't_frame', 'cellID', 'f_local2_bg_rfp', 'f_local2_bg_tfp']]"
   ]
  },
  {
   "cell_type": "code",
   "execution_count": 188,
   "id": "164260aa",
   "metadata": {},
   "outputs": [
    {
     "ename": "SyntaxError",
     "evalue": "invalid syntax (1665051019.py, line 1)",
     "output_type": "error",
     "traceback": [
      "\u001b[0;36m  File \u001b[0;32m\"/tmp/ipykernel_15336/1665051019.py\"\u001b[0;36m, line \u001b[0;32m1\u001b[0m\n\u001b[0;31m    finall<th>0</th>\\n\u001b[0m\n\u001b[0m                ^\u001b[0m\n\u001b[0;31mSyntaxError\u001b[0m\u001b[0;31m:\u001b[0m invalid syntax\n"
     ]
    }
   ],
   "source": [
    "finall<th>0</th>\\n"
   ]
  },
  {
   "cell_type": "code",
   "execution_count": 238,
   "id": "9b48dc12",
   "metadata": {},
   "outputs": [
    {
     "data": {
      "text/plain": [
       "'<div class=\"PyCellID.core.CellData\" id=140538198318816><div class=\"PyCellID.core.CellData\" id=140538198317088><div>\\n<style scoped>\\n    .dataframe tbody tr th:only-of-type {\\n        vertical-align: middle;\\n    }\\n\\n    .dataframe tbody tr th {\\n        vertical-align: top;\\n    }\\n\\n    .dataframe thead th {\\n        text-align: right;\\n    }\\n</style>\\n<table border=\"1\" class=\"dataframe\">\\n  <thead>\\n    <tr style=\"text-align: right;\">\\n      <th></th>\\n      <th>pos</th>\\n      <th>t_frame</th>\\n      <th>cellID</th>\\n      <th>f_local2_bg_rfp</th>\\n      <th>f_local2_bg_tfp</th>\\n    </tr>\\n  </thead>\\n  <tbody>\\n    <tr>\\n      <th>0</th>\\n      <td>1</td>\\n      <td>0</td>\\n      <td>0</td>\\n      <td>241.2194</td>\\n      <td>12523.05</td>\\n    </tr>\\n    <tr>\\n      <th>1</th>\\n      <td>1</td>\\n      <td>1</td>\\n      <td>0</td>\\n      <td>240.1235</td>\\n      <td>12138.30</td>\\n    </tr>\\n    <tr>\\n      <th>2</th>\\n      <td>1</td>\\n      <td>2</td>\\n      <td>0</td>\\n      <td>242.0784</td>\\n      <td>11993.09</td>\\n    </tr>\\n  </tbody>\\n</table>\\n</div>PyCellID.core.CellData - 3 rows x 5 columns</div>PyCellID.core.CellData - 3 rows x 5 columns</div>'"
      ]
     },
     "execution_count": 238,
     "metadata": {},
     "output_type": "execute_result"
    }
   ],
   "source": [
    "df_repr = rep_r._repr_html_()\n",
    "df_repr"
   ]
  },
  {
   "cell_type": "code",
   "execution_count": 346,
   "id": "9676d96b",
   "metadata": {},
   "outputs": [
    {
     "data": {
      "text/plain": [
       "'<style scoped>\\n    .dataframe tbody tr th:only-of-type {\\n        vertical-align: middle;\\n    }\\n\\n    .dataframe tbody tr th {\\n        vertical-align: top;\\n    }\\n\\n    .dataframe thead th {\\n        text-align: right;\\n    }\\n</style>\\n<table border=\"1\" class=\"dataframe\">\\n  <thead>\\n    <tr style=\"text-align: right;\">\\n      <th></th>\\n      <th>pos</th>\\n      <th>t_frame</th>\\n      <th>cellID</th>\\n      <th>f_local2_bg_rfp</th>\\n      <th>f_local2_bg_tfp</th>\\n    </tr>\\n  </thead>\\n  <tbody>\\n    <tr>\\n      <th>0</th>\\n      <td>1</td>\\n      <td>0</td>\\n      <td>0</td>\\n      <td>241.2194</td>\\n      <td>12523.05</td>\\n    </tr>\\n    <tr>\\n      <th>1</th>\\n      <td>1</td>\\n      <td>1</td>\\n      <td>0</td>\\n      <td>240.1235</td>\\n      <td>12138.30</td>\\n    </tr>\\n    <tr>\\n      <th>2</th>\\n      <td>1</td>\\n      <td>2</td>\\n      <td>0</td>\\n      <td>242.0784</td>\\n      <td>11993.09</td>\\n    </tr>\\n  </tbody>\\n</table>\\n</div>PyCellID.core.CellData - 3 rows x 5 columns</div>PyCellID.core.CellData - 3 rows x 5 columns</div>'"
      ]
     },
     "execution_count": 346,
     "metadata": {},
     "output_type": "execute_result"
    }
   ],
   "source": [
    "df_repr = df_repr.split(\"\\n\", 1)[1]\n",
    "df_repr"
   ]
  },
  {
   "cell_type": "code",
   "execution_count": 348,
   "id": "fe0d12af",
   "metadata": {},
   "outputs": [
    {
     "data": {
      "text/plain": [
       "[]"
      ]
     },
     "execution_count": 348,
     "metadata": {},
     "output_type": "execute_result"
    }
   ],
   "source": [
    "re.findall(df_repr,r'(<th>\\d+</th>\\n)')\n",
    "#re.findall(r'-?\\d+\\.?\\d*', r_s[1])"
   ]
  },
  {
   "cell_type": "code",
   "execution_count": 354,
   "id": "21cd4fd6",
   "metadata": {},
   "outputs": [
    {
     "ename": "IndexError",
     "evalue": "list index out of range",
     "output_type": "error",
     "traceback": [
      "\u001b[0;31m---------------------------------------------------------------------------\u001b[0m",
      "\u001b[0;31mIndexError\u001b[0m                                Traceback (most recent call last)",
      "\u001b[0;32m/tmp/ipykernel_15336/2247002166.py\u001b[0m in \u001b[0;36m<module>\u001b[0;34m\u001b[0m\n\u001b[1;32m      1\u001b[0m \u001b[0ml\u001b[0m \u001b[0;34m=\u001b[0m \u001b[0mre\u001b[0m\u001b[0;34m.\u001b[0m\u001b[0mcompile\u001b[0m\u001b[0;34m(\u001b[0m\u001b[0;34mr'<th>\\d+</th>'\u001b[0m\u001b[0;34m)\u001b[0m\u001b[0;34m.\u001b[0m\u001b[0msplit\u001b[0m\u001b[0;34m(\u001b[0m\u001b[0mdf_repr\u001b[0m\u001b[0;34m)\u001b[0m\u001b[0;34m\u001b[0m\u001b[0;34m\u001b[0m\u001b[0m\n\u001b[0;32m----> 2\u001b[0;31m \u001b[0ml\u001b[0m\u001b[0;34m[\u001b[0m\u001b[0;36m4\u001b[0m\u001b[0;34m]\u001b[0m\u001b[0;34m\u001b[0m\u001b[0;34m\u001b[0m\u001b[0m\n\u001b[0m",
      "\u001b[0;31mIndexError\u001b[0m: list index out of range"
     ]
    }
   ],
   "source": [
    "l = re.compile(r'<th>\\d+</th>').split(df_repr)\n"
   ]
  },
  {
   "cell_type": "code",
   "execution_count": 341,
   "id": "7683e785",
   "metadata": {},
   "outputs": [
    {
     "data": {
      "text/plain": [
       "['<div class=\"PyCellID.core.CellData\" id=140538198318816><div class=\"PyCellID.core.CellData\" id=140538198317088><div>\\n<style scoped>\\n    .dataframe tbody tr th:only-of-type {\\n        vertical-align: middle;\\n    }\\n\\n    .dataframe tbody tr th {\\n        vertical-align: top;\\n    }\\n\\n    .dataframe thead th {\\n        text-align: right;\\n    }\\n</style>\\n<table border=\"1\" class=\"dataframe\">\\n  <thead>\\n    <tr style=\"text-align: right;\">\\n      <th></th>\\n      <th>pos</th>\\n      <th>t_frame</th>\\n      <th>cellID</th>\\n      <th>f_local2_bg_rfp</th>\\n      <th>f_local2_bg_tfp</th>\\n    </tr>\\n  </thead>\\n  <tbody>\\n    <tr>\\n      <th>0</th>\\n      <td>1</td>\\n      <td>0</td>\\n      <td>0</td>\\n      <td>241.2194</td>\\n      <td>12523.05</td>\\n    </tr>\\n    <tr>\\n      <th>1</th>\\n      <td>1</td>\\n      <td>1</td>\\n      <td>0</td>\\n      <td>240.1235</td>\\n      <td>12138.30</td>\\n    </tr>\\n    <tr>\\n      <th>2</th>\\n      <td>1</td>\\n      <td>2</td>\\n      <td>0</td>\\n      <td>242.0784</td>\\n      <td>11993.09</td>\\n    </tr>\\n  </tbody>\\n</table>\\n</div>PyCellID.core.CellData - 3 rows x 5 columns</div>PyCellID.core.CellData - 3 rows x 5 columns</div>']"
      ]
     },
     "execution_count": 341,
     "metadata": {},
     "output_type": "execute_result"
    }
   ],
   "source": [
    "df_repr.split(r'[<th>[\\d+]/th>]')"
   ]
  },
  {
   "cell_type": "code",
   "execution_count": 193,
   "id": "e5f40c3c",
   "metadata": {},
   "outputs": [
    {
     "ename": "SyntaxError",
     "evalue": "invalid syntax (4287904663.py, line 28)",
     "output_type": "error",
     "traceback": [
      "\u001b[0;36m  File \u001b[0;32m\"/tmp/ipykernel_15336/4287904663.py\"\u001b[0;36m, line \u001b[0;32m28\u001b[0m\n\u001b[0;31m    idx1'      <th>0</th>\\n'\u001b[0m\n\u001b[0m    ^\u001b[0m\n\u001b[0;31mSyntaxError\u001b[0m\u001b[0;31m:\u001b[0m invalid syntax\n"
     ]
    }
   ],
   "source": [
    "repr_result = (\n",
    "        '<style scoped>\\n'\n",
    "        '    .dataframe tbody tr th:only-of-type {\\n'\n",
    "        '        vertical-align: middle;\\n'\n",
    "        '    }\\n'\n",
    "        '\\n'\n",
    "        '    .dataframe tbody tr th {\\n'\n",
    "        '        vertical-align: top;\\n'\n",
    "        '    }\\n'\n",
    "        '\\n'\n",
    "        '    .dataframe thead th {\\n'\n",
    "        '        text-align: right;\\n'\n",
    "        '    }\\n'\n",
    "        '</style>\\n'\n",
    "        '<table border=\"1\" class=\"dataframe\">\\n'\n",
    "        '  <thead>\\n'\n",
    "        '    <tr style=\"text-align: right;\">\\n'\n",
    "        '      <th></th>\\n'\n",
    "        '      <th>pos</th>\\n'\n",
    "        '      <th>t_frame</th>\\n'\n",
    "        '      <th>cellID</th>\\n'\n",
    "        '      <th>f_local2_bg_rfp</th>\\n'\n",
    "        '      <th>f_local2_bg_tfp</th>\\n'\n",
    "        '    </tr>\\n'\n",
    "        '  </thead>\\n'\n",
    "        '  <tbody>\\n'\n",
    "        '    <tr>\\n'\n",
    "        idx1'      <th>0</th>\\n'\n",
    "        '      <td>1</td>\\n'\n",
    "        '      <td>0</td>\\n'\n",
    "        '      <td>0</td>\\n'\n",
    "        '      <td>241.2194</td>\\n'\n",
    "        '      <td>12523.05</td>\\n'\n",
    "        '    </tr>\\n'\n",
    "        '    <tr>\\n'\n",
    "        idx2'      <th>1</th>\\n'\n",
    "        '      <td>1</td>\\n'\n",
    "        '      <td>1</td>\\n'\n",
    "        '      <td>0</td>\\n'\n",
    "        '      <td>240.1235</td>\\n'\n",
    "        '      <td>12138.30</td>\\n'\n",
    "        '    </tr>\\n'\n",
    "        '    <tr>\\n'\n",
    "        idx3'      <th>2</th>\\n'\n",
    "        '      <td>1</td>\\n'\n",
    "        '      <td>2</td>\\n'\n",
    "        '      <td>0</td>\\n'\n",
    "        '      <td>242.0784</td>\\n'\n",
    "        '      <td>11993.09</td>\\n'\n",
    "        '    </tr>\\n'\n",
    "        '  </tbody>\\n'\n",
    "        '</table>\\n'\n",
    "        '</div>PyCellID.core.CellData - 3 rows x 5 columns'\n",
    "        '</div>PyCellID.core.CellData - 3 rows x 5 columns</div>'\n",
    "        )"
   ]
  },
  {
   "cell_type": "code",
   "execution_count": 200,
   "id": "3882bf2c",
   "metadata": {},
   "outputs": [
    {
     "data": {
      "text/plain": [
       "'    .dataframe tbody tr th:only-of-type {\\n        vertical-align: middle;\\n    }\\n\\n    .dataframe tbody tr th {\\n        vertical-align: top;\\n    }\\n\\n    .dataframe thead th {\\n        text-align: right;\\n    }\\n</style>\\n<table border=\"1\" class=\"dataframe\">\\n  <thead>\\n    <tr style=\"text-align: right;\">\\n      <th></th>\\n      <th>pos</th>\\n      <th>t_frame</th>\\n      <th>cellID</th>\\n      <th>f_local2_bg_rfp</th>\\n      <th>f_local2_bg_tfp</th>\\n    </tr>\\n  </thead>\\n  <tbody>\\n    <tr>\\n      <th>0</th>\\n      <td>1</td>\\n      <td>0</td>\\n      <td>0</td>\\n      <td>241.2194</td>\\n      <td>12523.05</td>\\n    </tr>\\n    <tr>\\n      <th>1</th>\\n      <td>1</td>\\n      <td>1</td>\\n      <td>0</td>\\n      <td>240.1235</td>\\n      <td>12138.30</td>\\n    </tr>\\n    <tr>\\n      <th>2</th>\\n      <td>1</td>\\n      <td>2</td>\\n      <td>0</td>\\n      <td>242.0784</td>\\n      <td>11993.09</td>\\n    </tr>\\n  </tbody>\\n</table>\\n</div>PyCellID.core.CellData - 3 rows x 5 columns</div>PyCellID.core.CellData - 3 rows x 5 columns</div>'"
      ]
     },
     "execution_count": 200,
     "metadata": {},
     "output_type": "execute_result"
    }
   ],
   "source": [
    "df_repr"
   ]
  },
  {
   "cell_type": "code",
   "execution_count": 359,
   "id": "345e4df1",
   "metadata": {},
   "outputs": [
    {
     "data": {
      "text/html": [
       "<div>\n",
       "<style scoped>\n",
       "    .dataframe tbody tr th:only-of-type {\n",
       "        vertical-align: middle;\n",
       "    }\n",
       "\n",
       "    .dataframe tbody tr th {\n",
       "        vertical-align: top;\n",
       "    }\n",
       "\n",
       "    .dataframe thead th {\n",
       "        text-align: right;\n",
       "    }\n",
       "</style>\n",
       "<table border=\"1\" class=\"dataframe\">\n",
       "  <thead>\n",
       "    <tr style=\"text-align: right;\">\n",
       "      <th></th>\n",
       "      <th>pos</th>\n",
       "      <th>t_frame</th>\n",
       "      <th>ucid</th>\n",
       "      <th>cellID</th>\n",
       "      <th>time</th>\n",
       "      <th>xpos</th>\n",
       "      <th>ypos</th>\n",
       "      <th>a_tot</th>\n",
       "      <th>num_pix</th>\n",
       "      <th>fft_stat</th>\n",
       "      <th>...</th>\n",
       "      <th>f_nucl_tag6_tfp</th>\n",
       "      <th>f_nucl_tag6_yfp</th>\n",
       "      <th>f_local_bg_cfp</th>\n",
       "      <th>f_local_bg_rfp</th>\n",
       "      <th>f_local_bg_tfp</th>\n",
       "      <th>f_local_bg_yfp</th>\n",
       "      <th>f_local2_bg_cfp</th>\n",
       "      <th>f_local2_bg_rfp</th>\n",
       "      <th>f_local2_bg_tfp</th>\n",
       "      <th>f_local2_bg_yfp</th>\n",
       "    </tr>\n",
       "  </thead>\n",
       "  <tbody>\n",
       "    <tr>\n",
       "      <th>0</th>\n",
       "      <td>1</td>\n",
       "      <td>0</td>\n",
       "      <td>100000000000</td>\n",
       "      <td>0</td>\n",
       "      <td>0</td>\n",
       "      <td>29</td>\n",
       "      <td>725</td>\n",
       "      <td>527.0</td>\n",
       "      <td>527</td>\n",
       "      <td>0.387982</td>\n",
       "      <td>...</td>\n",
       "      <td>1675334.0</td>\n",
       "      <td>54200.0</td>\n",
       "      <td>378.6183</td>\n",
       "      <td>240.4300</td>\n",
       "      <td>12571.83</td>\n",
       "      <td>312.5942</td>\n",
       "      <td>372.9697</td>\n",
       "      <td>241.2194</td>\n",
       "      <td>12523.05</td>\n",
       "      <td>310.0760</td>\n",
       "    </tr>\n",
       "    <tr>\n",
       "      <th>1</th>\n",
       "      <td>1</td>\n",
       "      <td>1</td>\n",
       "      <td>100000000000</td>\n",
       "      <td>0</td>\n",
       "      <td>0</td>\n",
       "      <td>31</td>\n",
       "      <td>725</td>\n",
       "      <td>614.0</td>\n",
       "      <td>614</td>\n",
       "      <td>0.443545</td>\n",
       "      <td>...</td>\n",
       "      <td>1473843.0</td>\n",
       "      <td>54020.0</td>\n",
       "      <td>383.6143</td>\n",
       "      <td>240.4676</td>\n",
       "      <td>12212.17</td>\n",
       "      <td>319.5286</td>\n",
       "      <td>377.4458</td>\n",
       "      <td>240.1235</td>\n",
       "      <td>12138.30</td>\n",
       "      <td>317.3976</td>\n",
       "    </tr>\n",
       "    <tr>\n",
       "      <th>2</th>\n",
       "      <td>1</td>\n",
       "      <td>2</td>\n",
       "      <td>100000000000</td>\n",
       "      <td>0</td>\n",
       "      <td>0</td>\n",
       "      <td>31</td>\n",
       "      <td>724</td>\n",
       "      <td>639.0</td>\n",
       "      <td>639</td>\n",
       "      <td>0.500724</td>\n",
       "      <td>...</td>\n",
       "      <td>1451150.0</td>\n",
       "      <td>46463.0</td>\n",
       "      <td>379.6064</td>\n",
       "      <td>241.2868</td>\n",
       "      <td>11988.62</td>\n",
       "      <td>322.5431</td>\n",
       "      <td>376.9560</td>\n",
       "      <td>242.0784</td>\n",
       "      <td>11993.09</td>\n",
       "      <td>323.3418</td>\n",
       "    </tr>\n",
       "  </tbody>\n",
       "</table>\n",
       "<p>3 rows × 125 columns</p>\n",
       "</div>"
      ],
      "text/plain": [
       "   pos  t_frame          ucid  cellID  time  xpos  ypos  a_tot  num_pix  \\\n",
       "0    1        0  100000000000       0     0    29   725  527.0      527   \n",
       "1    1        1  100000000000       0     0    31   725  614.0      614   \n",
       "2    1        2  100000000000       0     0    31   724  639.0      639   \n",
       "\n",
       "   fft_stat  ...  f_nucl_tag6_tfp  f_nucl_tag6_yfp  f_local_bg_cfp  \\\n",
       "0  0.387982  ...        1675334.0          54200.0        378.6183   \n",
       "1  0.443545  ...        1473843.0          54020.0        383.6143   \n",
       "2  0.500724  ...        1451150.0          46463.0        379.6064   \n",
       "\n",
       "   f_local_bg_rfp  f_local_bg_tfp  f_local_bg_yfp  f_local2_bg_cfp  \\\n",
       "0        240.4300        12571.83        312.5942         372.9697   \n",
       "1        240.4676        12212.17        319.5286         377.4458   \n",
       "2        241.2868        11988.62        322.5431         376.9560   \n",
       "\n",
       "   f_local2_bg_rfp  f_local2_bg_tfp  f_local2_bg_yfp  \n",
       "0         241.2194         12523.05         310.0760  \n",
       "1         240.1235         12138.30         317.3976  \n",
       "2         242.0784         11993.09         323.3418  \n",
       "\n",
       "[3 rows x 125 columns]"
      ]
     },
     "execution_count": 359,
     "metadata": {},
     "output_type": "execute_result"
    }
   ],
   "source": [
    "ucid = 100000000000\n",
    "iloc = CellData(df._path, df[df.ucid==ucid].iloc[:3]).copy()\n",
    "iloc"
   ]
  },
  {
   "cell_type": "code",
   "execution_count": null,
   "id": "51a9f9ec",
   "metadata": {},
   "outputs": [],
   "source": [
    "df = CellData.from_csv('samples_cellid')"
   ]
  },
  {
   "cell_type": "code",
   "execution_count": 376,
   "id": "65e58452",
   "metadata": {},
   "outputs": [
    {
     "data": {
      "text/html": [
       "<div>\n",
       "<style scoped>\n",
       "    .dataframe tbody tr th:only-of-type {\n",
       "        vertical-align: middle;\n",
       "    }\n",
       "\n",
       "    .dataframe tbody tr th {\n",
       "        vertical-align: top;\n",
       "    }\n",
       "\n",
       "    .dataframe thead th {\n",
       "        text-align: right;\n",
       "    }\n",
       "</style>\n",
       "<table border=\"1\" class=\"dataframe\">\n",
       "  <thead>\n",
       "    <tr style=\"text-align: right;\">\n",
       "      <th></th>\n",
       "      <th>pos</th>\n",
       "      <th>t_frame</th>\n",
       "      <th>cellID</th>\n",
       "      <th>f_local2_bg_rfp</th>\n",
       "      <th>f_local2_bg_tfp</th>\n",
       "    </tr>\n",
       "  </thead>\n",
       "  <tbody>\n",
       "    <tr>\n",
       "      <th>0</th>\n",
       "      <td>1</td>\n",
       "      <td>0</td>\n",
       "      <td>0</td>\n",
       "      <td>241.2194</td>\n",
       "      <td>12523.05</td>\n",
       "    </tr>\n",
       "    <tr>\n",
       "      <th>1</th>\n",
       "      <td>1</td>\n",
       "      <td>1</td>\n",
       "      <td>0</td>\n",
       "      <td>240.1235</td>\n",
       "      <td>12138.30</td>\n",
       "    </tr>\n",
       "    <tr>\n",
       "      <th>2</th>\n",
       "      <td>1</td>\n",
       "      <td>2</td>\n",
       "      <td>0</td>\n",
       "      <td>242.0784</td>\n",
       "      <td>11993.09</td>\n",
       "    </tr>\n",
       "  </tbody>\n",
       "</table>\n",
       "</div>"
      ],
      "text/plain": [
       "   pos  t_frame  cellID  f_local2_bg_rfp  f_local2_bg_tfp\n",
       "0    1        0       0         241.2194         12523.05\n",
       "1    1        1       0         240.1235         12138.30\n",
       "2    1        2       0         242.0784         11993.09"
      ]
     },
     "execution_count": 376,
     "metadata": {},
     "output_type": "execute_result"
    }
   ],
   "source": [
    "col = ['pos', 't_frame', 'cellID', 'f_local2_bg_rfp', 'f_local2_bg_tfp']\n",
    "d = CellData(df._path, df[df.ucid==ucid].head(3)).copy()\n",
    "d = d[col]\n",
    "d"
   ]
  },
  {
   "cell_type": "code",
   "execution_count": 377,
   "id": "5dd62590",
   "metadata": {},
   "outputs": [
    {
     "data": {
      "text/html": [
       "<div>\n",
       "<style scoped>\n",
       "    .dataframe tbody tr th:only-of-type {\n",
       "        vertical-align: middle;\n",
       "    }\n",
       "\n",
       "    .dataframe tbody tr th {\n",
       "        vertical-align: top;\n",
       "    }\n",
       "\n",
       "    .dataframe thead th {\n",
       "        text-align: right;\n",
       "    }\n",
       "</style>\n",
       "<table border=\"1\" class=\"dataframe\">\n",
       "  <thead>\n",
       "    <tr style=\"text-align: right;\">\n",
       "      <th></th>\n",
       "      <th>index</th>\n",
       "      <th>pos</th>\n",
       "      <th>t_frame</th>\n",
       "      <th>cellID</th>\n",
       "      <th>f_local2_bg_rfp</th>\n",
       "      <th>f_local2_bg_tfp</th>\n",
       "    </tr>\n",
       "  </thead>\n",
       "  <tbody>\n",
       "    <tr>\n",
       "      <th>0</th>\n",
       "      <td>0</td>\n",
       "      <td>1</td>\n",
       "      <td>0</td>\n",
       "      <td>0</td>\n",
       "      <td>241.2194</td>\n",
       "      <td>12523.05</td>\n",
       "    </tr>\n",
       "    <tr>\n",
       "      <th>1</th>\n",
       "      <td>1</td>\n",
       "      <td>1</td>\n",
       "      <td>1</td>\n",
       "      <td>0</td>\n",
       "      <td>240.1235</td>\n",
       "      <td>12138.30</td>\n",
       "    </tr>\n",
       "    <tr>\n",
       "      <th>2</th>\n",
       "      <td>2</td>\n",
       "      <td>1</td>\n",
       "      <td>2</td>\n",
       "      <td>0</td>\n",
       "      <td>242.0784</td>\n",
       "      <td>11993.09</td>\n",
       "    </tr>\n",
       "  </tbody>\n",
       "</table>\n",
       "</div>"
      ],
      "text/plain": [
       "   index  pos  t_frame  cellID  f_local2_bg_rfp  f_local2_bg_tfp\n",
       "0      0    1        0       0         241.2194         12523.05\n",
       "1      1    1        1       0         240.1235         12138.30\n",
       "2      2    1        2       0         242.0784         11993.09"
      ]
     },
     "execution_count": 377,
     "metadata": {},
     "output_type": "execute_result"
    }
   ],
   "source": [
    "d.reset_index()"
   ]
  },
  {
   "cell_type": "code",
   "execution_count": 378,
   "id": "d70a0fe2",
   "metadata": {},
   "outputs": [
    {
     "data": {
      "text/plain": [
       "Index(['pos', 't_frame', 'cellID', 'f_local2_bg_rfp', 'f_local2_bg_tfp'], dtype='object')"
      ]
     },
     "execution_count": 378,
     "metadata": {},
     "output_type": "execute_result"
    }
   ],
   "source": [
    "d.c"
   ]
  },
  {
   "cell_type": "code",
   "execution_count": null,
   "id": "20d14082",
   "metadata": {},
   "outputs": [],
   "source": []
  }
 ],
 "metadata": {
  "kernelspec": {
   "display_name": "Python 3 (ipykernel)",
   "language": "python",
   "name": "python3"
  },
  "language_info": {
   "codemirror_mode": {
    "name": "ipython",
    "version": 3
   },
   "file_extension": ".py",
   "mimetype": "text/x-python",
   "name": "python",
   "nbconvert_exporter": "python",
   "pygments_lexer": "ipython3",
   "version": "3.9.9"
  }
 },
 "nbformat": 4,
 "nbformat_minor": 5
}
