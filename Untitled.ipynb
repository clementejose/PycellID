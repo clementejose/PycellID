{
 "cells": [
  {
   "cell_type": "code",
   "execution_count": 111,
   "id": "0518c5fb",
   "metadata": {},
   "outputs": [],
   "source": [
    "from pycellid.core import CellData\n",
    "import numpy as np\n",
    "from numpy.testing import assert_allclose\n",
    "import re"
   ]
  },
  {
   "cell_type": "code",
   "execution_count": 3,
   "id": "f35bd5f3",
   "metadata": {},
   "outputs": [],
   "source": [
    "df = CellData.from_csv('samples_cellid')"
   ]
  },
  {
   "cell_type": "code",
   "execution_count": 152,
   "id": "0ad69ed3",
   "metadata": {},
   "outputs": [
    {
     "data": {
      "text/html": [
       "<div class=\"PyCellID.core.CellData\" id=140538200572688><div class=\"PyCellID.core.CellData\" id=140538199590128><div>\n",
       "<style scoped>\n",
       "    .dataframe tbody tr th:only-of-type {\n",
       "        vertical-align: middle;\n",
       "    }\n",
       "\n",
       "    .dataframe tbody tr th {\n",
       "        vertical-align: top;\n",
       "    }\n",
       "\n",
       "    .dataframe thead th {\n",
       "        text-align: right;\n",
       "    }\n",
       "</style>\n",
       "<table border=\"1\" class=\"dataframe\">\n",
       "  <thead>\n",
       "    <tr style=\"text-align: right;\">\n",
       "      <th></th>\n",
       "      <th>pos</th>\n",
       "      <th>t_frame</th>\n",
       "      <th>cellID</th>\n",
       "      <th>f_local2_bg_rfp</th>\n",
       "      <th>f_local2_bg_tfp</th>\n",
       "    </tr>\n",
       "  </thead>\n",
       "  <tbody>\n",
       "    <tr>\n",
       "      <th>0</th>\n",
       "      <td>1</td>\n",
       "      <td>0</td>\n",
       "      <td>0</td>\n",
       "      <td>241.2194</td>\n",
       "      <td>12523.05</td>\n",
       "    </tr>\n",
       "    <tr>\n",
       "      <th>1</th>\n",
       "      <td>1</td>\n",
       "      <td>1</td>\n",
       "      <td>0</td>\n",
       "      <td>240.1235</td>\n",
       "      <td>12138.30</td>\n",
       "    </tr>\n",
       "    <tr>\n",
       "      <th>2</th>\n",
       "      <td>1</td>\n",
       "      <td>2</td>\n",
       "      <td>0</td>\n",
       "      <td>242.0784</td>\n",
       "      <td>11993.09</td>\n",
       "    </tr>\n",
       "  </tbody>\n",
       "</table>\n",
       "</div>PyCellID.core.CellData - 3 rows x 5 columns</div>PyCellID.core.CellData - 3 rows x 5 columns</div>"
      ],
      "text/plain": [
       "   pos  t_frame  cellID  f_local2_bg_rfp  f_local2_bg_tfp\n",
       "0    1        0       0         241.2194         12523.05\n",
       "1    1        1       0         240.1235         12138.30\n",
       "2    1        2       0         242.0784         11993.09"
      ]
     },
     "execution_count": 152,
     "metadata": {},
     "output_type": "execute_result"
    }
   ],
   "source": [
    "def create_test_object_minimum():\n",
    "    df = CellData.from_csv('samples_cellid')\n",
    "    df = CellData(df._path, df.head(3))\n",
    "    df = df[['pos', 't_frame', 'cellID', 'f_local2_bg_rfp', 'f_local2_bg_tfp']]\n",
    "    df = CellData(df._path, df)\n",
    "    return df\n",
    "rep_r = create_test_object_minimum()\n",
    "rep_r"
   ]
  },
  {
   "cell_type": "code",
   "execution_count": 146,
   "id": "cfff2e02",
   "metadata": {},
   "outputs": [],
   "source": [
    "#repr_result ='   pos  t_frame  cellID  f_local2_bg_rfp  f_local2_bg_tfp\\n0    1        0       0         241.2194         12523.05\\n1    1        1       0         240.1235         12138.30\\n2    1        2       0         242.0784         11993.09'\n",
    "spected = [\n",
    "    '   pos  t_frame  cellID  f_local2_bg_rfp  f_local2_bg_tfp',\n",
    "    '0    1        0       0         241.2194         12523.05',\n",
    "    '1    1        1       0         240.1235         12138.30',\n",
    "    '2    1        2       0         242.0784         11993.09'\n",
    "]"
   ]
  },
  {
   "cell_type": "code",
   "execution_count": 147,
   "id": "a47f26a1",
   "metadata": {},
   "outputs": [],
   "source": [
    "#repr(df[['pos', 't_frame', 'cellID', 'f_local2_bg_rfp', 'f_local2_bg_tfp']].head(3).values) == repr(df_t.values)"
   ]
  },
  {
   "cell_type": "code",
   "execution_count": 148,
   "id": "aea5b3b2",
   "metadata": {},
   "outputs": [
    {
     "data": {
      "text/plain": [
       "True"
      ]
     },
     "execution_count": 148,
     "metadata": {},
     "output_type": "execute_result"
    }
   ],
   "source": [
    "repr(rep_r).split('\\n') == spected"
   ]
  },
  {
   "cell_type": "code",
   "execution_count": 149,
   "id": "925e99ee",
   "metadata": {},
   "outputs": [
    {
     "data": {
      "text/plain": [
       "['   pos  t_frame  cellID  f_local2_bg_rfp  f_local2_bg_tfp',\n",
       " '0    1        0       0         241.2194         12523.05',\n",
       " '1    1        1       0         240.1235         12138.30',\n",
       " '2    1        2       0         242.0784         11993.09']"
      ]
     },
     "execution_count": 149,
     "metadata": {},
     "output_type": "execute_result"
    }
   ],
   "source": [
    "parts = repr(rep_r).split('\\n')\n",
    "parts"
   ]
  },
  {
   "cell_type": "code",
   "execution_count": 150,
   "id": "3e71ffff",
   "metadata": {},
   "outputs": [],
   "source": [
    "num = re.compile(r'-?\\d+\\.?\\d*')"
   ]
  },
  {
   "cell_type": "code",
   "execution_count": 151,
   "id": "85f629c7",
   "metadata": {},
   "outputs": [],
   "source": [
    "for i, val in enumerate(parts[1:]):\n",
    "    n_parts = np.array([n for n in num.findall(val)], dtype=float)\n",
    "    n_spect = np.array([n for n in num.findall(spected[i+1])], dtype=float)\n",
    "    assert_allclose(n_parts, n_spect)"
   ]
  },
  {
   "cell_type": "code",
   "execution_count": 83,
   "id": "9308ded5",
   "metadata": {},
   "outputs": [
    {
     "data": {
      "text/plain": [
       "True"
      ]
     },
     "execution_count": 83,
     "metadata": {},
     "output_type": "execute_result"
    }
   ],
   "source": [
    "np.all((np.array(r_s[1:]) == np.array(repr_result[1:])))"
   ]
  },
  {
   "cell_type": "code",
   "execution_count": 131,
   "id": "e022950d",
   "metadata": {},
   "outputs": [],
   "source": [
    "\n",
    "#assert_allclose(np.array(r_s[1:]), np.array(repr_result[1:]))"
   ]
  },
  {
   "cell_type": "code",
   "execution_count": 99,
   "id": "4b95ba77",
   "metadata": {},
   "outputs": [],
   "source": [
    "numeric = [n for n in r_s[1].split(' ') if n.isnumeric()]"
   ]
  },
  {
   "cell_type": "code",
   "execution_count": 100,
   "id": "00d818e8",
   "metadata": {},
   "outputs": [
    {
     "data": {
      "text/plain": [
       "['0', '1', '0', '0']"
      ]
     },
     "execution_count": 100,
     "metadata": {},
     "output_type": "execute_result"
    }
   ],
   "source": [
    "numeric"
   ]
  },
  {
   "cell_type": "code",
   "execution_count": 98,
   "id": "7a9011b5",
   "metadata": {},
   "outputs": [
    {
     "data": {
      "text/plain": [
       "True"
      ]
     },
     "execution_count": 98,
     "metadata": {},
     "output_type": "execute_result"
    }
   ],
   "source": [
    "d.isnumeric()"
   ]
  },
  {
   "cell_type": "code",
   "execution_count": 130,
   "id": "901f8ca8",
   "metadata": {},
   "outputs": [],
   "source": [
    "#r_s[1].split(' ')"
   ]
  },
  {
   "cell_type": "code",
   "execution_count": 105,
   "id": "34ecf659",
   "metadata": {},
   "outputs": [],
   "source": []
  },
  {
   "cell_type": "code",
   "execution_count": 108,
   "id": "76a9282a",
   "metadata": {},
   "outputs": [
    {
     "data": {
      "text/plain": [
       "['   pos  t_frame  cellID  f_local2_bg_rfp  f_local2_bg_tfp',\n",
       " '0    1        0       0         241.2194         12523.05',\n",
       " '1    1        1       0         240.1235         12138.30',\n",
       " '2    1        2       0         242.0784         11993.09']"
      ]
     },
     "execution_count": 108,
     "metadata": {},
     "output_type": "execute_result"
    }
   ],
   "source": [
    "r_s"
   ]
  },
  {
   "cell_type": "code",
   "execution_count": 117,
   "id": "56287706",
   "metadata": {},
   "outputs": [
    {
     "data": {
      "text/plain": [
       "array([0.000000e+00, 1.000000e+00, 0.000000e+00, 0.000000e+00,\n",
       "       2.412194e+02, 1.252305e+04])"
      ]
     },
     "execution_count": 117,
     "metadata": {},
     "output_type": "execute_result"
    }
   ],
   "source": [
    "np.array([s for s in re.findall(r'-?\\d+\\.?\\d*', r_s[1])], dtype=float)"
   ]
  },
  {
   "cell_type": "code",
   "execution_count": 118,
   "id": "ee3dd567",
   "metadata": {},
   "outputs": [],
   "source": [
    "num = re.compile(r'-?\\d+\\.?\\d*')"
   ]
  },
  {
   "cell_type": "code",
   "execution_count": 129,
   "id": "73b14520",
   "metadata": {},
   "outputs": [
    {
     "name": "stdout",
     "output_type": "stream",
     "text": [
      "[0.000000e+00 1.000000e+00 0.000000e+00 0.000000e+00 2.412194e+02\n",
      " 1.252305e+04]\n",
      "[1.000000e+00 1.000000e+00 1.000000e+00 0.000000e+00 2.401235e+02\n",
      " 1.213830e+04]\n",
      "[2.000000e+00 1.000000e+00 2.000000e+00 0.000000e+00 2.420784e+02\n",
      " 1.199309e+04]\n"
     ]
    }
   ],
   "source": [
    "for n in range(1, len(r_s)):\n",
    "    rep_i = np.array([s for s in num.findall(r_s[n])], dtype=float)\n",
    "    spect = np.array([s for s in num.findall(r_s[n])], dtype=float)"
   ]
  },
  {
   "cell_type": "code",
   "execution_count": null,
   "id": "f1afb140",
   "metadata": {},
   "outputs": [],
   "source": []
  }
 ],
 "metadata": {
  "kernelspec": {
   "display_name": "Python 3 (ipykernel)",
   "language": "python",
   "name": "python3"
  },
  "language_info": {
   "codemirror_mode": {
    "name": "ipython",
    "version": 3
   },
   "file_extension": ".py",
   "mimetype": "text/x-python",
   "name": "python",
   "nbconvert_exporter": "python",
   "pygments_lexer": "ipython3",
   "version": "3.9.9"
  }
 },
 "nbformat": 4,
 "nbformat_minor": 5
}
