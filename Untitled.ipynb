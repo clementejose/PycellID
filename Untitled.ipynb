{
 "cells": [
  {
   "cell_type": "code",
   "execution_count": 3,
   "id": "44731824",
   "metadata": {},
   "outputs": [],
   "source": [
    "import pandas as pd\n",
    "\n",
    "code = \"\"\"a,b,c,d\n",
    "1,2,3,4\n",
    "5,6,7,8\n",
    "\"\"\"\n",
    "\n",
    "with open(\"data.csv\", \"w\") as fp:\n",
    "    fp.write(code)\n",
    "\n",
    "csv=pd.read_csv(\"data.csv\")\n",
    "vars(csv)[\"_path\"]=\"path\""
   ]
  },
  {
   "cell_type": "code",
   "execution_count": 4,
   "id": "a6b4c081",
   "metadata": {},
   "outputs": [
    {
     "data": {
      "text/plain": [
       "'path'"
      ]
     },
     "execution_count": 4,
     "metadata": {},
     "output_type": "execute_result"
    }
   ],
   "source": [
    "csv._path"
   ]
  },
  {
   "cell_type": "code",
   "execution_count": 13,
   "id": "14031333",
   "metadata": {},
   "outputs": [],
   "source": [
    "import attr\n",
    "\n",
    "@attr.s(cmp=False, repr=False)\n",
    "class Cell:\n",
    "    _df = attr.ib()\n",
    "    \n",
    "    @classmethod\n",
    "    def from_csv(cls, path):\n",
    "        return cls(df=pd.read_csv(path))\n",
    "    \n",
    "    @classmethod\n",
    "    def from_excel(cls, path):\n",
    "        return cls(df=pd.read_excel(path))\n",
    "    \n",
    "    \n",
    "    def __repr__(self):\n",
    "        return repr(self._df)\n",
    "    \n",
    "    def _repr_html_(self):\n",
    "        return f\"{self._df._repr_html_()}<br><b>Esto no es un df</b>\"\n",
    "        \n",
    "    def __getitem__(self, slice):\n",
    "        sliced = self._df.__getitem__(slice)\n",
    "        return Cell(df=sliced)\n",
    "    \n",
    "    def __eq__(self, other):\n",
    "        return self._df == other\n",
    "    \n",
    "    def __ne__(self, other):\n",
    "        return not self == other\n",
    "        \n",
    "    def get_dataframe(self):\n",
    "        return self._df.copy()\n",
    "    \n",
    "    \n",
    "cell = Cell.from_csv(\"data.csv\")"
   ]
  },
  {
   "cell_type": "code",
   "execution_count": null,
   "id": "eaa3fdf2",
   "metadata": {},
   "outputs": [],
   "source": []
  },
  {
   "cell_type": "code",
   "execution_count": 463,
   "id": "82527fc8",
   "metadata": {},
   "outputs": [
    {
     "data": {
      "text/plain": [
       "['__attrs_attrs__',\n",
       " '__class__',\n",
       " '__delattr__',\n",
       " '__dict__',\n",
       " '__dir__',\n",
       " '__doc__',\n",
       " '__eq__',\n",
       " '__format__',\n",
       " '__ge__',\n",
       " '__getattr__',\n",
       " '__getattribute__',\n",
       " '__getitem__',\n",
       " '__gt__',\n",
       " '__hash__',\n",
       " '__init__',\n",
       " '__init_subclass__',\n",
       " '__iter__',\n",
       " '__le__',\n",
       " '__len__',\n",
       " '__lshift__',\n",
       " '__lt__',\n",
       " '__module__',\n",
       " '__ne__',\n",
       " '__new__',\n",
       " '__reduce__',\n",
       " '__reduce_ex__',\n",
       " '__repr__',\n",
       " '__setattr__',\n",
       " '__sizeof__',\n",
       " '__str__',\n",
       " '__subclasshook__',\n",
       " '__weakref__',\n",
       " '_df',\n",
       " '_repr_html_',\n",
       " 'from_csv',\n",
       " 'from_excel',\n",
       " 'get_dataframe']"
      ]
     },
     "execution_count": 463,
     "metadata": {},
     "output_type": "execute_result"
    }
   ],
   "source": [
    "list(dir(cell))"
   ]
  },
  {
   "cell_type": "code",
   "execution_count": 1,
   "id": "f7ff2dc4",
   "metadata": {},
   "outputs": [],
   "source": []
  },
  {
   "cell_type": "code",
   "execution_count": 2,
   "id": "eaac09a3",
   "metadata": {},
   "outputs": [],
   "source": []
  },
  {
   "cell_type": "code",
   "execution_count": null,
   "id": "d463a704",
   "metadata": {
    "scrolled": true
   },
   "outputs": [],
   "source": []
  },
  {
   "cell_type": "code",
   "execution_count": 7,
   "id": "0b0ab9d6",
   "metadata": {},
   "outputs": [],
   "source": []
  },
  {
   "cell_type": "markdown",
   "id": "5fd8c282",
   "metadata": {},
   "source": []
  },
  {
   "cell_type": "code",
   "execution_count": null,
   "id": "0f2cac84",
   "metadata": {},
   "outputs": [],
   "source": []
  },
  {
   "cell_type": "code",
   "execution_count": null,
   "id": "a805c525",
   "metadata": {},
   "outputs": [],
   "source": []
  },
  {
   "cell_type": "markdown",
   "id": "268896b1",
   "metadata": {},
   "source": []
  },
  {
   "cell_type": "code",
   "execution_count": null,
   "id": "bacb3a2f",
   "metadata": {},
   "outputs": [],
   "source": []
  },
  {
   "cell_type": "code",
   "execution_count": 7,
   "id": "39512343",
   "metadata": {},
   "outputs": [],
   "source": []
  },
  {
   "cell_type": "code",
   "execution_count": null,
   "id": "141c9ad2",
   "metadata": {},
   "outputs": [],
   "source": []
  },
  {
   "cell_type": "code",
   "execution_count": 9,
   "id": "2cc625af",
   "metadata": {},
   "outputs": [],
   "source": []
  },
  {
   "cell_type": "code",
   "execution_count": null,
   "id": "fa66ac5d",
   "metadata": {},
   "outputs": [],
   "source": []
  },
  {
   "cell_type": "code",
   "execution_count": null,
   "id": "48697e93",
   "metadata": {},
   "outputs": [],
   "source": []
  },
  {
   "cell_type": "code",
   "execution_count": null,
   "id": "f06a00be",
   "metadata": {},
   "outputs": [],
   "source": []
  },
  {
   "cell_type": "code",
   "execution_count": null,
   "id": "bbb219b1",
   "metadata": {},
   "outputs": [],
   "source": []
  },
  {
   "cell_type": "code",
   "execution_count": null,
   "id": "f21b80ea",
   "metadata": {},
   "outputs": [],
   "source": []
  },
  {
   "cell_type": "code",
   "execution_count": null,
   "id": "48a20305",
   "metadata": {},
   "outputs": [],
   "source": []
  },
  {
   "cell_type": "code",
   "execution_count": null,
   "id": "1211e65d",
   "metadata": {},
   "outputs": [],
   "source": []
  },
  {
   "cell_type": "code",
   "execution_count": null,
   "id": "59a3cbe4",
   "metadata": {},
   "outputs": [],
   "source": []
  },
  {
   "cell_type": "code",
   "execution_count": null,
   "id": "aa807c3b",
   "metadata": {},
   "outputs": [],
   "source": []
  },
  {
   "cell_type": "code",
   "execution_count": null,
   "id": "2a35bbbd",
   "metadata": {},
   "outputs": [],
   "source": []
  },
  {
   "cell_type": "code",
   "execution_count": null,
   "id": "87f9cf11",
   "metadata": {},
   "outputs": [],
   "source": []
  },
  {
   "cell_type": "code",
   "execution_count": null,
   "id": "b4c87556",
   "metadata": {},
   "outputs": [],
   "source": []
  },
  {
   "cell_type": "code",
   "execution_count": null,
   "id": "17e532b2",
   "metadata": {},
   "outputs": [],
   "source": []
  },
  {
   "cell_type": "code",
   "execution_count": null,
   "id": "1b38a033",
   "metadata": {},
   "outputs": [],
   "source": []
  },
  {
   "cell_type": "code",
   "execution_count": 26,
   "id": "6e9118b1",
   "metadata": {},
   "outputs": [],
   "source": []
  },
  {
   "cell_type": "code",
   "execution_count": null,
   "id": "8449f718",
   "metadata": {},
   "outputs": [],
   "source": []
  },
  {
   "cell_type": "code",
   "execution_count": null,
   "id": "3381debf",
   "metadata": {},
   "outputs": [],
   "source": []
  },
  {
   "cell_type": "code",
   "execution_count": null,
   "id": "7cd6faa6",
   "metadata": {},
   "outputs": [],
   "source": []
  },
  {
   "cell_type": "code",
   "execution_count": null,
   "id": "523a8e6d",
   "metadata": {},
   "outputs": [],
   "source": []
  },
  {
   "cell_type": "code",
   "execution_count": null,
   "id": "4d1fa0d5",
   "metadata": {},
   "outputs": [],
   "source": []
  },
  {
   "cell_type": "code",
   "execution_count": null,
   "id": "1dfb02dd",
   "metadata": {},
   "outputs": [],
   "source": []
  },
  {
   "cell_type": "code",
   "execution_count": null,
   "id": "ad59960d",
   "metadata": {},
   "outputs": [],
   "source": []
  },
  {
   "cell_type": "code",
   "execution_count": 4,
   "id": "d4aceca4",
   "metadata": {},
   "outputs": [],
   "source": []
  },
  {
   "cell_type": "code",
   "execution_count": null,
   "id": "f6cd715f",
   "metadata": {},
   "outputs": [],
   "source": []
  },
  {
   "cell_type": "code",
   "execution_count": 548,
   "id": "76fd4bbd",
   "metadata": {},
   "outputs": [],
   "source": [
    "import attr\n",
    "import pandas as pd\n",
    "from pycellid.io import merge_tables\n",
    "\n",
    "@attr.s(cmp=False, repr=False)\n",
    "class CellData:\n",
    "    _df = attr.ib()\n",
    "    \n",
    "    @classmethod\n",
    "    def from_csv(cls, path, **kwargs):\n",
    "        return cls(df=merge_tables(path, **kwargs))\n",
    "    \n",
    "    @classmethod\n",
    "    def from_excel(cls, path):\n",
    "        return cls(df=pd.read_excel(path))\n",
    "\n",
    "#logic\n",
    "    def __eq__(self, other):\n",
    "        return self._df == other\n",
    "\n",
    "    def __ne__(self, other):\n",
    "        return not self == other\n",
    "\n",
    "    def __lt__(self, other):\n",
    "        return self._df < other\n",
    "    \n",
    "    def __le__(self, other):\n",
    "        return self._df <= other\n",
    "        \n",
    "    def __gt__(self, other):\n",
    "        return self._df > other\n",
    "        \n",
    "    def __ge__(self, other):\n",
    "        return self._df >= other\n",
    "    \n",
    "    \n",
    "    def __lshift__(self, other):\n",
    "        return self._df.__lshift__(other)\n",
    " \n",
    "    def __rshift__(self, other):\n",
    "        return self._df.__rshift__(other)\n",
    "         \n",
    "    def __getitem__(self, slice):\n",
    "        sliced = self._df.__getitem__(slice)\n",
    "        return CellData(df=sliced)\n",
    "    \n",
    "    def __getattr__(self, a):\n",
    "        return self._df.__getattr__(a)\n",
    "    \n",
    "    def __setitem__(self, idx, values):\n",
    "        \"\"\"Call to implement assignment to self[key].\"\"\"\n",
    "        return values.__setitem__(idx, self._df)\n",
    "        \n",
    "    def __iter__(self):\n",
    "        \"\"\"Call when an iterator is required for a container.\n",
    "\n",
    "        iter(x) <=> x.__iter__().\n",
    "        \"\"\"\n",
    "        return iter(self._df)\n",
    "   \n",
    "    def __len__(self):\n",
    "        \"\"\"Call to implement the built-in function len().\n",
    "\n",
    "        len(x) <=> x.__len__().\n",
    "        \"\"\"\n",
    "        return len(self._df)\n",
    "    \n",
    "    def __repr__(self):\n",
    "        return repr(self._df)\n",
    "\n",
    "    def _repr_html_(self):\n",
    "        \"\"\"Print a rich HTML version of your object.\"\"\"\n",
    "        ad_id = id(self)\n",
    "\n",
    "        if not isinstance(self._df, pd.Series):\n",
    "            with pd.option_context(\"display.show_dimensions\", False):\n",
    "                df_html = self._df._repr_html_()\n",
    "\n",
    "            rows = f\"{self._df.shape[0]} rows\"\n",
    "            columns = f\"{self._df.shape[1]} columns\"\n",
    "\n",
    "            footer = f\"PyCellID.core.CellData - {rows} x {columns}\"\n",
    "\n",
    "            parts = [\n",
    "                f'<div class=\"PyCellID.core.CellData\" id={ad_id}>',\n",
    "                df_html,\n",
    "                footer,\n",
    "                \"</div>\",\n",
    "            ]\n",
    "                        \n",
    "            html = \"\".join(parts)\n",
    "            return html\n",
    "        else:\n",
    "            self._df.__repr__()\n",
    "        \n",
    "\n",
    "    def get_dataframe(self):\n",
    "        return self._df.copy()    \n",
    "    \n",
    "cell=CellData.from_csv(\"samples_cellid\")"
   ]
  },
  {
   "cell_type": "code",
   "execution_count": 549,
   "id": "77094dee",
   "metadata": {},
   "outputs": [
    {
     "data": {
      "text/plain": [
       "0        527.0\n",
       "1        614.0\n",
       "2        639.0\n",
       "3        688.0\n",
       "4        457.0\n",
       "         ...  \n",
       "18150    602.0\n",
       "18157    561.0\n",
       "18161    302.0\n",
       "18185    391.0\n",
       "18186    587.0\n",
       "Name: a_tot, Length: 12125, dtype: float64"
      ]
     },
     "execution_count": 549,
     "metadata": {},
     "output_type": "execute_result"
    }
   ],
   "source": [
    "cell.a_tot[(cell.a_tot>300)&(cell.a_tot<1000)]"
   ]
  },
  {
   "cell_type": "code",
   "execution_count": 469,
   "id": "991a9e2a",
   "metadata": {},
   "outputs": [
    {
     "data": {
      "text/plain": [
       "0        527.0\n",
       "1        614.0\n",
       "2        639.0\n",
       "3        688.0\n",
       "4        457.0\n",
       "         ...  \n",
       "18184    147.0\n",
       "18185    391.0\n",
       "18186    587.0\n",
       "18187    119.0\n",
       "18188    120.0\n",
       "Name: a_tot, Length: 18189, dtype: float64"
      ]
     },
     "execution_count": 469,
     "metadata": {},
     "output_type": "execute_result"
    }
   ],
   "source": [
    "cell.a_tot"
   ]
  },
  {
   "cell_type": "code",
   "execution_count": 552,
   "id": "b5ed6347",
   "metadata": {},
   "outputs": [
    {
     "data": {
      "text/html": [
       "<div>\n",
       "<style scoped>\n",
       "    .dataframe tbody tr th:only-of-type {\n",
       "        vertical-align: middle;\n",
       "    }\n",
       "\n",
       "    .dataframe tbody tr th {\n",
       "        vertical-align: top;\n",
       "    }\n",
       "\n",
       "    .dataframe thead th {\n",
       "        text-align: right;\n",
       "    }\n",
       "</style>\n",
       "<table border=\"1\" class=\"dataframe\">\n",
       "  <thead>\n",
       "    <tr style=\"text-align: right;\">\n",
       "      <th></th>\n",
       "      <th>pos</th>\n",
       "      <th>t_frame</th>\n",
       "      <th>ucid</th>\n",
       "      <th>cellID</th>\n",
       "      <th>time</th>\n",
       "      <th>xpos</th>\n",
       "      <th>ypos</th>\n",
       "      <th>a_tot</th>\n",
       "      <th>num_pix</th>\n",
       "      <th>fft_stat</th>\n",
       "      <th>...</th>\n",
       "      <th>f_nucl_tag6_tfp</th>\n",
       "      <th>f_nucl_tag6_yfp</th>\n",
       "      <th>f_local_bg_cfp</th>\n",
       "      <th>f_local_bg_rfp</th>\n",
       "      <th>f_local_bg_tfp</th>\n",
       "      <th>f_local_bg_yfp</th>\n",
       "      <th>f_local2_bg_cfp</th>\n",
       "      <th>f_local2_bg_rfp</th>\n",
       "      <th>f_local2_bg_tfp</th>\n",
       "      <th>f_local2_bg_yfp</th>\n",
       "    </tr>\n",
       "  </thead>\n",
       "  <tbody>\n",
       "    <tr>\n",
       "      <th>0</th>\n",
       "      <td>1</td>\n",
       "      <td>0</td>\n",
       "      <td>100000000000</td>\n",
       "      <td>0</td>\n",
       "      <td>0</td>\n",
       "      <td>29</td>\n",
       "      <td>725</td>\n",
       "      <td>527.0</td>\n",
       "      <td>527</td>\n",
       "      <td>0.387982</td>\n",
       "      <td>...</td>\n",
       "      <td>1675334.0</td>\n",
       "      <td>54200.0</td>\n",
       "      <td>378.6183</td>\n",
       "      <td>240.4300</td>\n",
       "      <td>12571.83</td>\n",
       "      <td>312.5942</td>\n",
       "      <td>372.9697</td>\n",
       "      <td>241.2194</td>\n",
       "      <td>12523.050</td>\n",
       "      <td>310.0760</td>\n",
       "    </tr>\n",
       "    <tr>\n",
       "      <th>1</th>\n",
       "      <td>1</td>\n",
       "      <td>1</td>\n",
       "      <td>100000000000</td>\n",
       "      <td>0</td>\n",
       "      <td>0</td>\n",
       "      <td>31</td>\n",
       "      <td>725</td>\n",
       "      <td>614.0</td>\n",
       "      <td>614</td>\n",
       "      <td>0.443545</td>\n",
       "      <td>...</td>\n",
       "      <td>1473843.0</td>\n",
       "      <td>54020.0</td>\n",
       "      <td>383.6143</td>\n",
       "      <td>240.4676</td>\n",
       "      <td>12212.17</td>\n",
       "      <td>319.5286</td>\n",
       "      <td>377.4458</td>\n",
       "      <td>240.1235</td>\n",
       "      <td>12138.300</td>\n",
       "      <td>317.3976</td>\n",
       "    </tr>\n",
       "    <tr>\n",
       "      <th>2</th>\n",
       "      <td>1</td>\n",
       "      <td>2</td>\n",
       "      <td>100000000000</td>\n",
       "      <td>0</td>\n",
       "      <td>0</td>\n",
       "      <td>31</td>\n",
       "      <td>724</td>\n",
       "      <td>639.0</td>\n",
       "      <td>639</td>\n",
       "      <td>0.500724</td>\n",
       "      <td>...</td>\n",
       "      <td>1451150.0</td>\n",
       "      <td>46463.0</td>\n",
       "      <td>379.6064</td>\n",
       "      <td>241.2868</td>\n",
       "      <td>11988.62</td>\n",
       "      <td>322.5431</td>\n",
       "      <td>376.9560</td>\n",
       "      <td>242.0784</td>\n",
       "      <td>11993.090</td>\n",
       "      <td>323.3418</td>\n",
       "    </tr>\n",
       "    <tr>\n",
       "      <th>3</th>\n",
       "      <td>1</td>\n",
       "      <td>3</td>\n",
       "      <td>100000000000</td>\n",
       "      <td>0</td>\n",
       "      <td>0</td>\n",
       "      <td>31</td>\n",
       "      <td>725</td>\n",
       "      <td>688.0</td>\n",
       "      <td>688</td>\n",
       "      <td>0.591332</td>\n",
       "      <td>...</td>\n",
       "      <td>1566434.0</td>\n",
       "      <td>47871.0</td>\n",
       "      <td>390.2697</td>\n",
       "      <td>436.6727</td>\n",
       "      <td>11646.41</td>\n",
       "      <td>330.3378</td>\n",
       "      <td>391.3493</td>\n",
       "      <td>437.9252</td>\n",
       "      <td>11549.440</td>\n",
       "      <td>331.3429</td>\n",
       "    </tr>\n",
       "    <tr>\n",
       "      <th>4</th>\n",
       "      <td>1</td>\n",
       "      <td>4</td>\n",
       "      <td>100000000000</td>\n",
       "      <td>0</td>\n",
       "      <td>0</td>\n",
       "      <td>24</td>\n",
       "      <td>721</td>\n",
       "      <td>457.0</td>\n",
       "      <td>457</td>\n",
       "      <td>0.085026</td>\n",
       "      <td>...</td>\n",
       "      <td>1204067.0</td>\n",
       "      <td>52761.0</td>\n",
       "      <td>372.6058</td>\n",
       "      <td>241.3909</td>\n",
       "      <td>11593.46</td>\n",
       "      <td>330.6237</td>\n",
       "      <td>367.9105</td>\n",
       "      <td>242.5352</td>\n",
       "      <td>11503.960</td>\n",
       "      <td>329.0977</td>\n",
       "    </tr>\n",
       "    <tr>\n",
       "      <th>...</th>\n",
       "      <td>...</td>\n",
       "      <td>...</td>\n",
       "      <td>...</td>\n",
       "      <td>...</td>\n",
       "      <td>...</td>\n",
       "      <td>...</td>\n",
       "      <td>...</td>\n",
       "      <td>...</td>\n",
       "      <td>...</td>\n",
       "      <td>...</td>\n",
       "      <td>...</td>\n",
       "      <td>...</td>\n",
       "      <td>...</td>\n",
       "      <td>...</td>\n",
       "      <td>...</td>\n",
       "      <td>...</td>\n",
       "      <td>...</td>\n",
       "      <td>...</td>\n",
       "      <td>...</td>\n",
       "      <td>...</td>\n",
       "      <td>...</td>\n",
       "    </tr>\n",
       "    <tr>\n",
       "      <th>18184</th>\n",
       "      <td>3</td>\n",
       "      <td>12</td>\n",
       "      <td>300000000720</td>\n",
       "      <td>720</td>\n",
       "      <td>0</td>\n",
       "      <td>802</td>\n",
       "      <td>736</td>\n",
       "      <td>147.0</td>\n",
       "      <td>147</td>\n",
       "      <td>0.556508</td>\n",
       "      <td>...</td>\n",
       "      <td>1237009.0</td>\n",
       "      <td>39586.0</td>\n",
       "      <td>520.8205</td>\n",
       "      <td>254.4151</td>\n",
       "      <td>10049.78</td>\n",
       "      <td>612.9800</td>\n",
       "      <td>522.1818</td>\n",
       "      <td>254.9767</td>\n",
       "      <td>10533.790</td>\n",
       "      <td>621.8302</td>\n",
       "    </tr>\n",
       "    <tr>\n",
       "      <th>18185</th>\n",
       "      <td>3</td>\n",
       "      <td>12</td>\n",
       "      <td>300000000721</td>\n",
       "      <td>721</td>\n",
       "      <td>0</td>\n",
       "      <td>840</td>\n",
       "      <td>707</td>\n",
       "      <td>391.0</td>\n",
       "      <td>391</td>\n",
       "      <td>0.040324</td>\n",
       "      <td>...</td>\n",
       "      <td>1053566.0</td>\n",
       "      <td>44035.0</td>\n",
       "      <td>477.8000</td>\n",
       "      <td>248.6977</td>\n",
       "      <td>11320.68</td>\n",
       "      <td>576.1446</td>\n",
       "      <td>463.5887</td>\n",
       "      <td>250.3025</td>\n",
       "      <td>11368.400</td>\n",
       "      <td>571.9272</td>\n",
       "    </tr>\n",
       "    <tr>\n",
       "      <th>18186</th>\n",
       "      <td>3</td>\n",
       "      <td>12</td>\n",
       "      <td>300000000722</td>\n",
       "      <td>722</td>\n",
       "      <td>0</td>\n",
       "      <td>915</td>\n",
       "      <td>827</td>\n",
       "      <td>587.0</td>\n",
       "      <td>587</td>\n",
       "      <td>0.672861</td>\n",
       "      <td>...</td>\n",
       "      <td>1534440.0</td>\n",
       "      <td>58636.0</td>\n",
       "      <td>508.6136</td>\n",
       "      <td>250.6716</td>\n",
       "      <td>9132.60</td>\n",
       "      <td>578.7262</td>\n",
       "      <td>509.0000</td>\n",
       "      <td>250.9851</td>\n",
       "      <td>9129.724</td>\n",
       "      <td>572.0000</td>\n",
       "    </tr>\n",
       "    <tr>\n",
       "      <th>18187</th>\n",
       "      <td>3</td>\n",
       "      <td>12</td>\n",
       "      <td>300000000723</td>\n",
       "      <td>723</td>\n",
       "      <td>0</td>\n",
       "      <td>986</td>\n",
       "      <td>336</td>\n",
       "      <td>119.0</td>\n",
       "      <td>119</td>\n",
       "      <td>0.494793</td>\n",
       "      <td>...</td>\n",
       "      <td>469596.0</td>\n",
       "      <td>36213.0</td>\n",
       "      <td>530.8571</td>\n",
       "      <td>250.7143</td>\n",
       "      <td>11290.47</td>\n",
       "      <td>423.6049</td>\n",
       "      <td>536.5789</td>\n",
       "      <td>251.0638</td>\n",
       "      <td>11238.870</td>\n",
       "      <td>423.4595</td>\n",
       "    </tr>\n",
       "    <tr>\n",
       "      <th>18188</th>\n",
       "      <td>3</td>\n",
       "      <td>12</td>\n",
       "      <td>300000000724</td>\n",
       "      <td>724</td>\n",
       "      <td>0</td>\n",
       "      <td>1014</td>\n",
       "      <td>84</td>\n",
       "      <td>120.0</td>\n",
       "      <td>120</td>\n",
       "      <td>0.827304</td>\n",
       "      <td>...</td>\n",
       "      <td>526434.0</td>\n",
       "      <td>127674.0</td>\n",
       "      <td>453.5542</td>\n",
       "      <td>249.6765</td>\n",
       "      <td>10899.60</td>\n",
       "      <td>716.8197</td>\n",
       "      <td>460.7500</td>\n",
       "      <td>248.6575</td>\n",
       "      <td>11796.740</td>\n",
       "      <td>903.9592</td>\n",
       "    </tr>\n",
       "  </tbody>\n",
       "</table>\n",
       "<p>18189 rows × 125 columns</p>\n",
       "</div>"
      ],
      "text/plain": [
       "       pos  t_frame          ucid  cellID  time  xpos  ypos  a_tot  num_pix  \\\n",
       "0        1        0  100000000000       0     0    29   725  527.0      527   \n",
       "1        1        1  100000000000       0     0    31   725  614.0      614   \n",
       "2        1        2  100000000000       0     0    31   724  639.0      639   \n",
       "3        1        3  100000000000       0     0    31   725  688.0      688   \n",
       "4        1        4  100000000000       0     0    24   721  457.0      457   \n",
       "...    ...      ...           ...     ...   ...   ...   ...    ...      ...   \n",
       "18184    3       12  300000000720     720     0   802   736  147.0      147   \n",
       "18185    3       12  300000000721     721     0   840   707  391.0      391   \n",
       "18186    3       12  300000000722     722     0   915   827  587.0      587   \n",
       "18187    3       12  300000000723     723     0   986   336  119.0      119   \n",
       "18188    3       12  300000000724     724     0  1014    84  120.0      120   \n",
       "\n",
       "       fft_stat  ...  f_nucl_tag6_tfp  f_nucl_tag6_yfp  f_local_bg_cfp  \\\n",
       "0      0.387982  ...        1675334.0          54200.0        378.6183   \n",
       "1      0.443545  ...        1473843.0          54020.0        383.6143   \n",
       "2      0.500724  ...        1451150.0          46463.0        379.6064   \n",
       "3      0.591332  ...        1566434.0          47871.0        390.2697   \n",
       "4      0.085026  ...        1204067.0          52761.0        372.6058   \n",
       "...         ...  ...              ...              ...             ...   \n",
       "18184  0.556508  ...        1237009.0          39586.0        520.8205   \n",
       "18185  0.040324  ...        1053566.0          44035.0        477.8000   \n",
       "18186  0.672861  ...        1534440.0          58636.0        508.6136   \n",
       "18187  0.494793  ...         469596.0          36213.0        530.8571   \n",
       "18188  0.827304  ...         526434.0         127674.0        453.5542   \n",
       "\n",
       "       f_local_bg_rfp  f_local_bg_tfp  f_local_bg_yfp  f_local2_bg_cfp  \\\n",
       "0            240.4300        12571.83        312.5942         372.9697   \n",
       "1            240.4676        12212.17        319.5286         377.4458   \n",
       "2            241.2868        11988.62        322.5431         376.9560   \n",
       "3            436.6727        11646.41        330.3378         391.3493   \n",
       "4            241.3909        11593.46        330.6237         367.9105   \n",
       "...               ...             ...             ...              ...   \n",
       "18184        254.4151        10049.78        612.9800         522.1818   \n",
       "18185        248.6977        11320.68        576.1446         463.5887   \n",
       "18186        250.6716         9132.60        578.7262         509.0000   \n",
       "18187        250.7143        11290.47        423.6049         536.5789   \n",
       "18188        249.6765        10899.60        716.8197         460.7500   \n",
       "\n",
       "       f_local2_bg_rfp  f_local2_bg_tfp  f_local2_bg_yfp  \n",
       "0             241.2194        12523.050         310.0760  \n",
       "1             240.1235        12138.300         317.3976  \n",
       "2             242.0784        11993.090         323.3418  \n",
       "3             437.9252        11549.440         331.3429  \n",
       "4             242.5352        11503.960         329.0977  \n",
       "...                ...              ...              ...  \n",
       "18184         254.9767        10533.790         621.8302  \n",
       "18185         250.3025        11368.400         571.9272  \n",
       "18186         250.9851         9129.724         572.0000  \n",
       "18187         251.0638        11238.870         423.4595  \n",
       "18188         248.6575        11796.740         903.9592  \n",
       "\n",
       "[18189 rows x 125 columns]"
      ]
     },
     "execution_count": 552,
     "metadata": {},
     "output_type": "execute_result"
    }
   ],
   "source": [
    "cell[\"culo\"] = cell[\"a_tot\"]\n",
    "#cell[\"culo\"] == cell[\"a_tot\"]\n",
    "cell.drop([\"culo\"], axis=1)"
   ]
  },
  {
   "cell_type": "code",
   "execution_count": 536,
   "id": "ff428a7c",
   "metadata": {},
   "outputs": [],
   "source": [
    "cell.__delattr__(\"culo\")\n",
    "\n",
    "#cell[cell._df[\"a_tot\"]<200].plot.scatter(x=\"a_tot\", y='fft_stat'"
   ]
  },
  {
   "cell_type": "code",
   "execution_count": 2,
   "id": "facd2318",
   "metadata": {},
   "outputs": [
    {
     "ename": "AttributeError",
     "evalue": "'_CountingAttr' object has no attribute '_path'",
     "output_type": "error",
     "traceback": [
      "\u001b[0;31m---------------------------------------------------------------------------\u001b[0m",
      "\u001b[0;31mAttributeError\u001b[0m                            Traceback (most recent call last)",
      "\u001b[0;32m/tmp/ipykernel_352924/737348529.py\u001b[0m in \u001b[0;36m<module>\u001b[0;34m\u001b[0m\n\u001b[0;32m----> 1\u001b[0;31m \u001b[0;32mfrom\u001b[0m \u001b[0mpycellid\u001b[0m\u001b[0;34m.\u001b[0m\u001b[0mcore\u001b[0m \u001b[0;32mimport\u001b[0m \u001b[0mCellData\u001b[0m\u001b[0;34m\u001b[0m\u001b[0;34m\u001b[0m\u001b[0m\n\u001b[0m",
      "\u001b[0;32m~/Documentos/Project/pyCellID/pyCellID/pycellid/__init__.py\u001b[0m in \u001b[0;36m<module>\u001b[0;34m\u001b[0m\n\u001b[1;32m     32\u001b[0m \u001b[0;31m# =============================================================================\u001b[0m\u001b[0;34m\u001b[0m\u001b[0;34m\u001b[0m\u001b[0m\n\u001b[1;32m     33\u001b[0m \u001b[0;34m\u001b[0m\u001b[0m\n\u001b[0;32m---> 34\u001b[0;31m \u001b[0;32mfrom\u001b[0m \u001b[0;34m.\u001b[0m\u001b[0mcore\u001b[0m \u001b[0;32mimport\u001b[0m \u001b[0;34m*\u001b[0m  \u001b[0;31m# noqa\u001b[0m\u001b[0;34m\u001b[0m\u001b[0;34m\u001b[0m\u001b[0m\n\u001b[0m\u001b[1;32m     35\u001b[0m \u001b[0;32mfrom\u001b[0m \u001b[0;34m.\u001b[0m\u001b[0mimages\u001b[0m \u001b[0;32mimport\u001b[0m \u001b[0;34m*\u001b[0m  \u001b[0;31m# noqa\u001b[0m\u001b[0;34m\u001b[0m\u001b[0;34m\u001b[0m\u001b[0m\n\u001b[1;32m     36\u001b[0m \u001b[0;32mfrom\u001b[0m \u001b[0;34m.\u001b[0m\u001b[0mio\u001b[0m \u001b[0;32mimport\u001b[0m \u001b[0;34m*\u001b[0m  \u001b[0;31m# noqa\u001b[0m\u001b[0;34m\u001b[0m\u001b[0;34m\u001b[0m\u001b[0m\n",
      "\u001b[0;32m~/Documentos/Project/pyCellID/pyCellID/pycellid/core.py\u001b[0m in \u001b[0;36m<module>\u001b[0;34m\u001b[0m\n\u001b[1;32m     39\u001b[0m \u001b[0;34m\u001b[0m\u001b[0m\n\u001b[1;32m     40\u001b[0m \u001b[0;34m@\u001b[0m\u001b[0mattr\u001b[0m\u001b[0;34m.\u001b[0m\u001b[0ms\u001b[0m\u001b[0;34m(\u001b[0m\u001b[0mcmp\u001b[0m\u001b[0;34m=\u001b[0m\u001b[0;32mFalse\u001b[0m\u001b[0;34m,\u001b[0m \u001b[0mrepr\u001b[0m\u001b[0;34m=\u001b[0m\u001b[0;32mFalse\u001b[0m\u001b[0;34m)\u001b[0m\u001b[0;34m\u001b[0m\u001b[0;34m\u001b[0m\u001b[0m\n\u001b[0;32m---> 41\u001b[0;31m \u001b[0;32mclass\u001b[0m \u001b[0mCellData\u001b[0m\u001b[0;34m(\u001b[0m\u001b[0mobject\u001b[0m\u001b[0;34m)\u001b[0m\u001b[0;34m:\u001b[0m\u001b[0;34m\u001b[0m\u001b[0;34m\u001b[0m\u001b[0m\n\u001b[0m\u001b[1;32m     42\u001b[0m     \"\"\"Collapse your data into a single data frame.\n\u001b[1;32m     43\u001b[0m \u001b[0;34m\u001b[0m\u001b[0m\n",
      "\u001b[0;32m~/Documentos/Project/pyCellID/pyCellID/pycellid/core.py\u001b[0m in \u001b[0;36mCellData\u001b[0;34m()\u001b[0m\n\u001b[1;32m     73\u001b[0m     \u001b[0m_df\u001b[0m \u001b[0;34m=\u001b[0m \u001b[0mattr\u001b[0m\u001b[0;34m.\u001b[0m\u001b[0mib\u001b[0m\u001b[0;34m(\u001b[0m\u001b[0;34m)\u001b[0m\u001b[0;34m\u001b[0m\u001b[0;34m\u001b[0m\u001b[0m\n\u001b[1;32m     74\u001b[0m \u001b[0;34m\u001b[0m\u001b[0m\n\u001b[0;32m---> 75\u001b[0;31m     \u001b[0m_path\u001b[0m \u001b[0;34m=\u001b[0m \u001b[0m_df\u001b[0m\u001b[0;34m.\u001b[0m\u001b[0m_path\u001b[0m\u001b[0;34m\u001b[0m\u001b[0;34m\u001b[0m\u001b[0m\n\u001b[0m\u001b[1;32m     76\u001b[0m     \u001b[0;32mif\u001b[0m \u001b[0;32mnot\u001b[0m \u001b[0mhasattr\u001b[0m\u001b[0;34m(\u001b[0m\u001b[0m_df\u001b[0m\u001b[0;34m,\u001b[0m \u001b[0;34m\"_path\"\u001b[0m\u001b[0;34m)\u001b[0m\u001b[0;34m:\u001b[0m\u001b[0;34m\u001b[0m\u001b[0;34m\u001b[0m\u001b[0m\n\u001b[1;32m     77\u001b[0m         \u001b[0mvars\u001b[0m\u001b[0;34m(\u001b[0m\u001b[0m_df\u001b[0m\u001b[0;34m)\u001b[0m\u001b[0;34m[\u001b[0m\u001b[0;34m\"_path\"\u001b[0m\u001b[0;34m]\u001b[0m\u001b[0;34m=\u001b[0m\u001b[0m_path\u001b[0m\u001b[0;34m\u001b[0m\u001b[0;34m\u001b[0m\u001b[0m\n",
      "\u001b[0;31mAttributeError\u001b[0m: '_CountingAttr' object has no attribute '_path'"
     ]
    }
   ],
   "source": [
    "from pycellid.core import CellData"
   ]
  },
  {
   "cell_type": "code",
   "execution_count": 1,
   "id": "6603cea2",
   "metadata": {},
   "outputs": [
    {
     "ename": "NameError",
     "evalue": "name 'CellData' is not defined",
     "output_type": "error",
     "traceback": [
      "\u001b[0;31m---------------------------------------------------------------------------\u001b[0m",
      "\u001b[0;31mNameError\u001b[0m                                 Traceback (most recent call last)",
      "\u001b[0;32m/tmp/ipykernel_352924/2932122827.py\u001b[0m in \u001b[0;36m<module>\u001b[0;34m\u001b[0m\n\u001b[0;32m----> 1\u001b[0;31m \u001b[0mcell\u001b[0m \u001b[0;34m=\u001b[0m \u001b[0mCellData\u001b[0m\u001b[0;34m.\u001b[0m\u001b[0mfrom_csv\u001b[0m\u001b[0;34m(\u001b[0m\u001b[0;34m'samples_cellid'\u001b[0m\u001b[0;34m)\u001b[0m\u001b[0;34m\u001b[0m\u001b[0;34m\u001b[0m\u001b[0m\n\u001b[0m",
      "\u001b[0;31mNameError\u001b[0m: name 'CellData' is not defined"
     ]
    }
   ],
   "source": [
    "cell = CellData.from_csv('samples_cellid')"
   ]
  },
  {
   "cell_type": "code",
   "execution_count": 3,
   "id": "41facced",
   "metadata": {},
   "outputs": [
    {
     "data": {
      "text/plain": [
       "True"
      ]
     },
     "execution_count": 3,
     "metadata": {},
     "output_type": "execute_result"
    }
   ],
   "source": [
    "hasattr(cell, \"_path\")"
   ]
  },
  {
   "cell_type": "code",
   "execution_count": 4,
   "id": "e64f75e3",
   "metadata": {},
   "outputs": [
    {
     "data": {
      "text/plain": [
       "0        527.0\n",
       "1        614.0\n",
       "2        639.0\n",
       "3        688.0\n",
       "4        457.0\n",
       "         ...  \n",
       "18184    147.0\n",
       "18185    391.0\n",
       "18186    587.0\n",
       "18187    119.0\n",
       "18188    120.0\n",
       "Name: a_tot, Length: 18189, dtype: float64"
      ]
     },
     "execution_count": 4,
     "metadata": {},
     "output_type": "execute_result"
    }
   ],
   "source": [
    "cell.a_tot"
   ]
  },
  {
   "cell_type": "code",
   "execution_count": 5,
   "id": "05ccff51",
   "metadata": {},
   "outputs": [
    {
     "data": {
      "text/plain": [
       "0        527.0\n",
       "1        614.0\n",
       "2        639.0\n",
       "3        688.0\n",
       "4        457.0\n",
       "         ...  \n",
       "18184    147.0\n",
       "18185    391.0\n",
       "18186    587.0\n",
       "18187    119.0\n",
       "18188    120.0\n",
       "Name: a_tot, Length: 18189, dtype: float64"
      ]
     },
     "execution_count": 5,
     "metadata": {},
     "output_type": "execute_result"
    }
   ],
   "source": [
    "cell[\"a_tot\"]"
   ]
  },
  {
   "cell_type": "code",
   "execution_count": 6,
   "id": "0a3607b4",
   "metadata": {},
   "outputs": [
    {
     "data": {
      "text/plain": [
       "True"
      ]
     },
     "execution_count": 6,
     "metadata": {},
     "output_type": "execute_result"
    }
   ],
   "source": [
    "isinstance(cell[cell.a_tot < 300], CellData)"
   ]
  },
  {
   "cell_type": "code",
   "execution_count": 7,
   "id": "39fe85d8",
   "metadata": {},
   "outputs": [
    {
     "ename": "AttributeError",
     "evalue": "'PlotAccessor' object has no attribute '_path'",
     "output_type": "error",
     "traceback": [
      "\u001b[0;31m---------------------------------------------------------------------------\u001b[0m",
      "\u001b[0;31mAttributeError\u001b[0m                            Traceback (most recent call last)",
      "\u001b[0;32m/tmp/ipykernel_351996/412842201.py\u001b[0m in \u001b[0;36m<module>\u001b[0;34m\u001b[0m\n\u001b[0;32m----> 1\u001b[0;31m \u001b[0mcell\u001b[0m\u001b[0;34m.\u001b[0m\u001b[0mplot\u001b[0m\u001b[0;34m(\u001b[0m\u001b[0;34m)\u001b[0m\u001b[0;34m\u001b[0m\u001b[0;34m\u001b[0m\u001b[0m\n\u001b[0m",
      "\u001b[0;32m~/Documentos/Project/pyCellID/pyCellID/pycellid/core.py\u001b[0m in \u001b[0;36m__call__\u001b[0;34m(self, kind, **kwargs)\u001b[0m\n\u001b[1;32m    221\u001b[0m             \u001b[0mmethod\u001b[0m \u001b[0;34m=\u001b[0m \u001b[0mgetattr\u001b[0m\u001b[0;34m(\u001b[0m\u001b[0mself\u001b[0m\u001b[0;34m.\u001b[0m\u001b[0mcells\u001b[0m\u001b[0;34m.\u001b[0m\u001b[0m_df\u001b[0m\u001b[0;34m.\u001b[0m\u001b[0mplot\u001b[0m\u001b[0;34m,\u001b[0m \u001b[0mkind\u001b[0m\u001b[0;34m)\u001b[0m\u001b[0;34m\u001b[0m\u001b[0;34m\u001b[0m\u001b[0m\n\u001b[1;32m    222\u001b[0m \u001b[0;34m\u001b[0m\u001b[0m\n\u001b[0;32m--> 223\u001b[0;31m         \u001b[0;32mreturn\u001b[0m \u001b[0mmethod\u001b[0m\u001b[0;34m(\u001b[0m\u001b[0;34m**\u001b[0m\u001b[0mkwargs\u001b[0m\u001b[0;34m)\u001b[0m\u001b[0;34m\u001b[0m\u001b[0;34m\u001b[0m\u001b[0m\n\u001b[0m\u001b[1;32m    224\u001b[0m \u001b[0;34m\u001b[0m\u001b[0m\n\u001b[1;32m    225\u001b[0m     \u001b[0;32mdef\u001b[0m \u001b[0m__getattr__\u001b[0m\u001b[0;34m(\u001b[0m\u001b[0mself\u001b[0m\u001b[0;34m,\u001b[0m \u001b[0ma\u001b[0m\u001b[0;34m)\u001b[0m\u001b[0;34m:\u001b[0m\u001b[0;34m\u001b[0m\u001b[0;34m\u001b[0m\u001b[0m\n",
      "\u001b[0;32m~/Documentos/Project/pyCellID/pyCellID/pycellid/core.py\u001b[0m in \u001b[0;36mcells_image\u001b[0;34m(self, array_img_kws, imshow_kws, ax)\u001b[0m\n\u001b[1;32m    270\u001b[0m         \u001b[0mimshow_kws\u001b[0m\u001b[0;34m.\u001b[0m\u001b[0msetdefault\u001b[0m\u001b[0;34m(\u001b[0m\u001b[0;34m\"cmap\"\u001b[0m\u001b[0;34m,\u001b[0m \u001b[0;34m\"Greys\"\u001b[0m\u001b[0;34m)\u001b[0m\u001b[0;34m\u001b[0m\u001b[0;34m\u001b[0m\u001b[0m\n\u001b[1;32m    271\u001b[0m \u001b[0;34m\u001b[0m\u001b[0m\n\u001b[0;32m--> 272\u001b[0;31m         \u001b[0marr_c\u001b[0m \u001b[0;34m=\u001b[0m \u001b[0mimg\u001b[0m\u001b[0;34m.\u001b[0m\u001b[0marray_img\u001b[0m\u001b[0;34m(\u001b[0m\u001b[0mdata\u001b[0m\u001b[0;34m=\u001b[0m\u001b[0mdata_c\u001b[0m\u001b[0;34m,\u001b[0m \u001b[0mpath\u001b[0m\u001b[0;34m=\u001b[0m\u001b[0mself\u001b[0m\u001b[0;34m.\u001b[0m\u001b[0m_path\u001b[0m\u001b[0;34m,\u001b[0m \u001b[0;34m**\u001b[0m\u001b[0marray_img_kws\u001b[0m\u001b[0;34m)\u001b[0m\u001b[0;34m\u001b[0m\u001b[0;34m\u001b[0m\u001b[0m\n\u001b[0m\u001b[1;32m    273\u001b[0m \u001b[0;34m\u001b[0m\u001b[0m\n\u001b[1;32m    274\u001b[0m         \u001b[0max\u001b[0m\u001b[0;34m.\u001b[0m\u001b[0mimshow\u001b[0m\u001b[0;34m(\u001b[0m\u001b[0marr_c\u001b[0m\u001b[0;34m,\u001b[0m \u001b[0;34m**\u001b[0m\u001b[0mimshow_kws\u001b[0m\u001b[0;34m)\u001b[0m\u001b[0;34m\u001b[0m\u001b[0;34m\u001b[0m\u001b[0m\n",
      "\u001b[0;32m~/Documentos/Project/pyCellID/pyCellID/pycellid/core.py\u001b[0m in \u001b[0;36m__getattr__\u001b[0;34m(self, a)\u001b[0m\n\u001b[1;32m    229\u001b[0m         \u001b[0mgetattr\u001b[0m\u001b[0;34m(\u001b[0m\u001b[0mx\u001b[0m\u001b[0;34m,\u001b[0m \u001b[0my\u001b[0m\u001b[0;34m)\u001b[0m \u001b[0;34m<=\u001b[0m\u001b[0;34m=\u001b[0m\u001b[0;34m>\u001b[0m \u001b[0mx\u001b[0m\u001b[0;34m.\u001b[0m\u001b[0m__getattr__\u001b[0m\u001b[0;34m(\u001b[0m\u001b[0my\u001b[0m\u001b[0;34m)\u001b[0m \u001b[0;34m<=\u001b[0m\u001b[0;34m=\u001b[0m\u001b[0;34m>\u001b[0m \u001b[0mgetattr\u001b[0m\u001b[0;34m(\u001b[0m\u001b[0mx\u001b[0m\u001b[0;34m,\u001b[0m \u001b[0my\u001b[0m\u001b[0;34m)\u001b[0m\u001b[0;34m.\u001b[0m\u001b[0;34m\u001b[0m\u001b[0;34m\u001b[0m\u001b[0m\n\u001b[1;32m    230\u001b[0m         \"\"\"\n\u001b[0;32m--> 231\u001b[0;31m         \u001b[0;32mreturn\u001b[0m \u001b[0mgetattr\u001b[0m\u001b[0;34m(\u001b[0m\u001b[0mself\u001b[0m\u001b[0;34m.\u001b[0m\u001b[0mcells\u001b[0m\u001b[0;34m.\u001b[0m\u001b[0m_df\u001b[0m\u001b[0;34m.\u001b[0m\u001b[0mplot\u001b[0m\u001b[0;34m,\u001b[0m \u001b[0ma\u001b[0m\u001b[0;34m)\u001b[0m\u001b[0;34m\u001b[0m\u001b[0;34m\u001b[0m\u001b[0m\n\u001b[0m\u001b[1;32m    232\u001b[0m \u001b[0;34m\u001b[0m\u001b[0m\n\u001b[1;32m    233\u001b[0m     \u001b[0;32mdef\u001b[0m \u001b[0m__repr__\u001b[0m\u001b[0;34m(\u001b[0m\u001b[0mself\u001b[0m\u001b[0;34m)\u001b[0m\u001b[0;34m:\u001b[0m\u001b[0;34m\u001b[0m\u001b[0;34m\u001b[0m\u001b[0m\n",
      "\u001b[0;31mAttributeError\u001b[0m: 'PlotAccessor' object has no attribute '_path'"
     ]
    },
    {
     "data": {
      "image/png": "[encoded data removed]",
      "text/plain": [
       "<Figure size 432x288 with 1 Axes>"
      ]
     },
     "metadata": {
      "needs_background": "light"
     },
     "output_type": "display_data"
    }
   ],
   "source": [
    "cell.plot()"
   ]
  },
  {
   "cell_type": "code",
   "execution_count": 7,
   "id": "e85a39f5",
   "metadata": {},
   "outputs": [
    {
     "ename": "AttributeError",
     "evalue": "'DataFrame' object has no attribute '_path'",
     "output_type": "error",
     "traceback": [
      "\u001b[0;31m---------------------------------------------------------------------------\u001b[0m",
      "\u001b[0;31mAttributeError\u001b[0m                            Traceback (most recent call last)",
      "\u001b[0;32m/tmp/ipykernel_351654/1226315155.py\u001b[0m in \u001b[0;36m<module>\u001b[0;34m\u001b[0m\n\u001b[0;32m----> 1\u001b[0;31m \u001b[0mcell\u001b[0m\u001b[0;34m[\u001b[0m\u001b[0mcell\u001b[0m\u001b[0;34m[\u001b[0m\u001b[0;34m\"a_tot\"\u001b[0m\u001b[0;34m]\u001b[0m\u001b[0;34m>\u001b[0m\u001b[0;36m500\u001b[0m\u001b[0;34m]\u001b[0m\u001b[0;34m.\u001b[0m\u001b[0mplot\u001b[0m\u001b[0;34m(\u001b[0m\u001b[0;34m)\u001b[0m\u001b[0;34m\u001b[0m\u001b[0;34m\u001b[0m\u001b[0m\n\u001b[0m",
      "\u001b[0;32m~/Documentos/Project/pyCellID/pyCellID/pycellid/core.py\u001b[0m in \u001b[0;36m__call__\u001b[0;34m(self, kind, **kwargs)\u001b[0m\n\u001b[1;32m    221\u001b[0m             \u001b[0mmethod\u001b[0m \u001b[0;34m=\u001b[0m \u001b[0mgetattr\u001b[0m\u001b[0;34m(\u001b[0m\u001b[0mself\u001b[0m\u001b[0;34m.\u001b[0m\u001b[0mcells\u001b[0m\u001b[0;34m.\u001b[0m\u001b[0mdf\u001b[0m\u001b[0;34m.\u001b[0m\u001b[0mplot\u001b[0m\u001b[0;34m,\u001b[0m \u001b[0mkind\u001b[0m\u001b[0;34m)\u001b[0m\u001b[0;34m\u001b[0m\u001b[0;34m\u001b[0m\u001b[0m\n\u001b[1;32m    222\u001b[0m \u001b[0;34m\u001b[0m\u001b[0m\n\u001b[0;32m--> 223\u001b[0;31m         \u001b[0;32mreturn\u001b[0m \u001b[0mmethod\u001b[0m\u001b[0;34m(\u001b[0m\u001b[0;34m**\u001b[0m\u001b[0mkwargs\u001b[0m\u001b[0;34m)\u001b[0m\u001b[0;34m\u001b[0m\u001b[0;34m\u001b[0m\u001b[0m\n\u001b[0m\u001b[1;32m    224\u001b[0m \u001b[0;34m\u001b[0m\u001b[0m\n\u001b[1;32m    225\u001b[0m     \u001b[0;32mdef\u001b[0m \u001b[0m__getattr__\u001b[0m\u001b[0;34m(\u001b[0m\u001b[0mself\u001b[0m\u001b[0;34m,\u001b[0m \u001b[0ma\u001b[0m\u001b[0;34m)\u001b[0m\u001b[0;34m:\u001b[0m\u001b[0;34m\u001b[0m\u001b[0;34m\u001b[0m\u001b[0m\n",
      "\u001b[0;32m~/Documentos/Project/pyCellID/pyCellID/pycellid/core.py\u001b[0m in \u001b[0;36mcells_image\u001b[0;34m(self, array_img_kws, imshow_kws, ax)\u001b[0m\n\u001b[1;32m    270\u001b[0m         \u001b[0mimshow_kws\u001b[0m\u001b[0;34m.\u001b[0m\u001b[0msetdefault\u001b[0m\u001b[0;34m(\u001b[0m\u001b[0;34m\"cmap\"\u001b[0m\u001b[0;34m,\u001b[0m \u001b[0;34m\"Greys\"\u001b[0m\u001b[0;34m)\u001b[0m\u001b[0;34m\u001b[0m\u001b[0;34m\u001b[0m\u001b[0m\n\u001b[1;32m    271\u001b[0m \u001b[0;34m\u001b[0m\u001b[0m\n\u001b[0;32m--> 272\u001b[0;31m         \u001b[0marr_c\u001b[0m \u001b[0;34m=\u001b[0m \u001b[0mimg\u001b[0m\u001b[0;34m.\u001b[0m\u001b[0marray_img\u001b[0m\u001b[0;34m(\u001b[0m\u001b[0mdata\u001b[0m\u001b[0;34m=\u001b[0m\u001b[0mdata_c\u001b[0m\u001b[0;34m,\u001b[0m \u001b[0mpath\u001b[0m\u001b[0;34m=\u001b[0m\u001b[0mdata_c\u001b[0m\u001b[0;34m.\u001b[0m\u001b[0m_path\u001b[0m\u001b[0;34m,\u001b[0m \u001b[0;34m**\u001b[0m\u001b[0marray_img_kws\u001b[0m\u001b[0;34m)\u001b[0m\u001b[0;34m\u001b[0m\u001b[0;34m\u001b[0m\u001b[0m\n\u001b[0m\u001b[1;32m    273\u001b[0m \u001b[0;34m\u001b[0m\u001b[0m\n\u001b[1;32m    274\u001b[0m         \u001b[0max\u001b[0m\u001b[0;34m.\u001b[0m\u001b[0mimshow\u001b[0m\u001b[0;34m(\u001b[0m\u001b[0marr_c\u001b[0m\u001b[0;34m,\u001b[0m \u001b[0;34m**\u001b[0m\u001b[0mimshow_kws\u001b[0m\u001b[0;34m)\u001b[0m\u001b[0;34m\u001b[0m\u001b[0;34m\u001b[0m\u001b[0m\n",
      "\u001b[0;32m~/Documentos/Project/pyCellID/pyCellID/pycellid/core.py\u001b[0m in \u001b[0;36m__getattr__\u001b[0;34m(self, a)\u001b[0m\n\u001b[1;32m    125\u001b[0m \u001b[0;34m\u001b[0m\u001b[0m\n\u001b[1;32m    126\u001b[0m     \u001b[0;32mdef\u001b[0m \u001b[0m__getattr__\u001b[0m\u001b[0;34m(\u001b[0m\u001b[0mself\u001b[0m\u001b[0;34m,\u001b[0m \u001b[0ma\u001b[0m\u001b[0;34m)\u001b[0m\u001b[0;34m:\u001b[0m\u001b[0;34m\u001b[0m\u001b[0;34m\u001b[0m\u001b[0m\n\u001b[0;32m--> 127\u001b[0;31m         \u001b[0;32mreturn\u001b[0m \u001b[0mself\u001b[0m\u001b[0;34m.\u001b[0m\u001b[0m_df\u001b[0m\u001b[0;34m.\u001b[0m\u001b[0m__getattr__\u001b[0m\u001b[0;34m(\u001b[0m\u001b[0ma\u001b[0m\u001b[0;34m)\u001b[0m\u001b[0;34m\u001b[0m\u001b[0;34m\u001b[0m\u001b[0m\n\u001b[0m\u001b[1;32m    128\u001b[0m \u001b[0;34m\u001b[0m\u001b[0m\n\u001b[1;32m    129\u001b[0m     \u001b[0;32mdef\u001b[0m \u001b[0m__setitem__\u001b[0m\u001b[0;34m(\u001b[0m\u001b[0mself\u001b[0m\u001b[0;34m,\u001b[0m \u001b[0midx\u001b[0m\u001b[0;34m,\u001b[0m \u001b[0mvalues\u001b[0m\u001b[0;34m)\u001b[0m\u001b[0;34m:\u001b[0m\u001b[0;34m\u001b[0m\u001b[0;34m\u001b[0m\u001b[0m\n",
      "\u001b[0;32m~/.virtualenvs/Vpycellid/lib/python3.9/site-packages/pandas/core/generic.py\u001b[0m in \u001b[0;36m__getattr__\u001b[0;34m(self, name)\u001b[0m\n\u001b[1;32m   5485\u001b[0m         ):\n\u001b[1;32m   5486\u001b[0m             \u001b[0;32mreturn\u001b[0m \u001b[0mself\u001b[0m\u001b[0;34m[\u001b[0m\u001b[0mname\u001b[0m\u001b[0;34m]\u001b[0m\u001b[0;34m\u001b[0m\u001b[0;34m\u001b[0m\u001b[0m\n\u001b[0;32m-> 5487\u001b[0;31m         \u001b[0;32mreturn\u001b[0m \u001b[0mobject\u001b[0m\u001b[0;34m.\u001b[0m\u001b[0m__getattribute__\u001b[0m\u001b[0;34m(\u001b[0m\u001b[0mself\u001b[0m\u001b[0;34m,\u001b[0m \u001b[0mname\u001b[0m\u001b[0;34m)\u001b[0m\u001b[0;34m\u001b[0m\u001b[0;34m\u001b[0m\u001b[0m\n\u001b[0m\u001b[1;32m   5488\u001b[0m \u001b[0;34m\u001b[0m\u001b[0m\n\u001b[1;32m   5489\u001b[0m     \u001b[0;32mdef\u001b[0m \u001b[0m__setattr__\u001b[0m\u001b[0;34m(\u001b[0m\u001b[0mself\u001b[0m\u001b[0;34m,\u001b[0m \u001b[0mname\u001b[0m\u001b[0;34m:\u001b[0m \u001b[0mstr\u001b[0m\u001b[0;34m,\u001b[0m \u001b[0mvalue\u001b[0m\u001b[0;34m)\u001b[0m \u001b[0;34m->\u001b[0m \u001b[0;32mNone\u001b[0m\u001b[0;34m:\u001b[0m\u001b[0;34m\u001b[0m\u001b[0;34m\u001b[0m\u001b[0m\n",
      "\u001b[0;31mAttributeError\u001b[0m: 'DataFrame' object has no attribute '_path'"
     ]
    },
    {
     "data": {
      "image/png": "[encoded data removed]",
      "text/plain": [
       "<Figure size 432x288 with 1 Axes>"
      ]
     },
     "metadata": {
      "needs_background": "light"
     },
     "output_type": "display_data"
    }
   ],
   "source": [
    "cell[cell[\"a_tot\"]>500].plot()"
   ]
  },
  {
   "cell_type": "code",
   "execution_count": null,
   "id": "00ddb89d",
   "metadata": {},
   "outputs": [],
   "source": []
  }
 ],
 "metadata": {
  "kernelspec": {
   "display_name": "Python 3 (ipykernel)",
   "language": "python",
   "name": "python3"
  },
  "language_info": {
   "codemirror_mode": {
    "name": "ipython",
    "version": 3
   },
   "file_extension": ".py",
   "mimetype": "text/x-python",
   "name": "python",
   "nbconvert_exporter": "python",
   "pygments_lexer": "ipython3",
   "version": "3.9.9"
  }
 },
 "nbformat": 4,
 "nbformat_minor": 5
}
