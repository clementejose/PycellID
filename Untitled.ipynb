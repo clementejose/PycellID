{
 "cells": [
  {
   "cell_type": "code",
   "execution_count": 1,
   "id": "23cb37fd",
   "metadata": {},
   "outputs": [],
   "source": [
    "import pycellid as pi"
   ]
  },
  {
   "cell_type": "code",
   "execution_count": 7,
   "id": "13702630",
   "metadata": {},
   "outputs": [],
   "source": [
    "df = pi.CellData(\".\\\\samples_cellid\\\\\")"
   ]
  },
  {
   "cell_type": "code",
   "execution_count": null,
   "id": "57105d62",
   "metadata": {},
   "outputs": [],
   "source": [
    "pp="
   ]
  }
 ],
 "metadata": {
  "kernelspec": {
   "display_name": "Python 3 (ipykernel)",
   "language": "python",
   "name": "python3"
  },
  "language_info": {
   "codemirror_mode": {
    "name": "ipython",
    "version": 3
   },
   "file_extension": ".py",
   "mimetype": "text/x-python",
   "name": "python",
   "nbconvert_exporter": "python",
   "pygments_lexer": "ipython3",
   "version": "3.9.7"
  }
 },
 "nbformat": 4,
 "nbformat_minor": 5
}
