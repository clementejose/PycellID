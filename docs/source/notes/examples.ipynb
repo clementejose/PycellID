{
 "cells": [
  {
   "cell_type": "markdown",
   "id": "13e1af9f",
   "metadata": {},
   "source": [
    "# Getting started with PyCellID\n",
    "\n",
    "## Installation with pip\n",
    "\n",
    "If you use pip, you can install it with:\n",
    "\n",
    "```\n",
    "pip install PyCellID\n",
    "```"
   ]
  },
  {
   "cell_type": "code",
   "execution_count": null,
   "id": "673255bb",
   "metadata": {},
   "outputs": [],
   "source": []
  }
 ],
 "metadata": {
  "kernelspec": {
   "display_name": "Python Científico",
   "language": "python",
   "name": "pysci"
  },
  "language_info": {
   "codemirror_mode": {
    "name": "ipython",
    "version": 3
   },
   "file_extension": ".py",
   "mimetype": "text/x-python",
   "name": "python",
   "nbconvert_exporter": "python",
   "pygments_lexer": "ipython3",
   "version": "3.8.5"
  }
 },
 "nbformat": 4,
 "nbformat_minor": 5
}
